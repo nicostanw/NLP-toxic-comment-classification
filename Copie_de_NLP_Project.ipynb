{
  "nbformat": 4,
  "nbformat_minor": 0,
  "metadata": {
    "kernelspec": {
      "display_name": "Python 3",
      "language": "python",
      "name": "python3"
    },
    "language_info": {
      "codemirror_mode": {
        "name": "ipython",
        "version": 3
      },
      "file_extension": ".py",
      "mimetype": "text/x-python",
      "name": "python",
      "nbconvert_exporter": "python",
      "pygments_lexer": "ipython3",
      "version": "3.7.6"
    },
    "colab": {
      "name": "Copie de NLP_Project.ipynb",
      "provenance": [],
      "collapsed_sections": [],
      "toc_visible": true,
      "include_colab_link": true
    },
    "accelerator": "GPU"
  },
  "cells": [
    {
      "cell_type": "markdown",
      "metadata": {
        "id": "view-in-github",
        "colab_type": "text"
      },
      "source": [
        "<a href=\"https://colab.research.google.com/github/nicostanw/NLP_Toxic_Comment_Classification/blob/main/Copie_de_NLP_Project.ipynb\" target=\"_parent\"><img src=\"https://colab.research.google.com/assets/colab-badge.svg\" alt=\"Open In Colab\"/></a>"
      ]
    },
    {
      "cell_type": "code",
      "metadata": {
        "colab": {
          "base_uri": "https://localhost:8080/"
        },
        "id": "W9nJhkQAgeMg",
        "outputId": "d66d978b-4d76-4e04-df3e-657498576b9b"
      },
      "source": [
        "!pip install Unidecode"
      ],
      "execution_count": null,
      "outputs": [
        {
          "output_type": "stream",
          "text": [
            "Collecting Unidecode\n",
            "\u001b[?25l  Downloading https://files.pythonhosted.org/packages/9e/25/723487ca2a52ebcee88a34d7d1f5a4b80b793f179ee0f62d5371938dfa01/Unidecode-1.2.0-py2.py3-none-any.whl (241kB)\n",
            "\r\u001b[K     |█▍                              | 10kB 11.7MB/s eta 0:00:01\r\u001b[K     |██▊                             | 20kB 9.9MB/s eta 0:00:01\r\u001b[K     |████                            | 30kB 8.8MB/s eta 0:00:01\r\u001b[K     |█████▍                          | 40kB 7.3MB/s eta 0:00:01\r\u001b[K     |██████▉                         | 51kB 4.5MB/s eta 0:00:01\r\u001b[K     |████████▏                       | 61kB 4.3MB/s eta 0:00:01\r\u001b[K     |█████████▌                      | 71kB 4.6MB/s eta 0:00:01\r\u001b[K     |██████████▉                     | 81kB 4.9MB/s eta 0:00:01\r\u001b[K     |████████████▏                   | 92kB 5.2MB/s eta 0:00:01\r\u001b[K     |█████████████▋                  | 102kB 5.4MB/s eta 0:00:01\r\u001b[K     |███████████████                 | 112kB 5.4MB/s eta 0:00:01\r\u001b[K     |████████████████▎               | 122kB 5.4MB/s eta 0:00:01\r\u001b[K     |█████████████████▋              | 133kB 5.4MB/s eta 0:00:01\r\u001b[K     |███████████████████             | 143kB 5.4MB/s eta 0:00:01\r\u001b[K     |████████████████████▍           | 153kB 5.4MB/s eta 0:00:01\r\u001b[K     |█████████████████████▊          | 163kB 5.4MB/s eta 0:00:01\r\u001b[K     |███████████████████████         | 174kB 5.4MB/s eta 0:00:01\r\u001b[K     |████████████████████████▍       | 184kB 5.4MB/s eta 0:00:01\r\u001b[K     |█████████████████████████▊      | 194kB 5.4MB/s eta 0:00:01\r\u001b[K     |███████████████████████████▏    | 204kB 5.4MB/s eta 0:00:01\r\u001b[K     |████████████████████████████▌   | 215kB 5.4MB/s eta 0:00:01\r\u001b[K     |█████████████████████████████▉  | 225kB 5.4MB/s eta 0:00:01\r\u001b[K     |███████████████████████████████▏| 235kB 5.4MB/s eta 0:00:01\r\u001b[K     |████████████████████████████████| 245kB 5.4MB/s \n",
            "\u001b[?25hInstalling collected packages: Unidecode\n",
            "Successfully installed Unidecode-1.2.0\n"
          ],
          "name": "stdout"
        }
      ]
    },
    {
      "cell_type": "code",
      "metadata": {
        "colab": {
          "base_uri": "https://localhost:8080/"
        },
        "id": "NKRr6xroiX9b",
        "outputId": "9d36e306-60f0-45a6-b55c-ac17b74b4431"
      },
      "source": [
        "!pip install contractions"
      ],
      "execution_count": null,
      "outputs": [
        {
          "output_type": "stream",
          "text": [
            "Collecting contractions\n",
            "  Downloading https://files.pythonhosted.org/packages/0a/04/d5e0bb9f2cef5d15616ebf68087a725c5dbdd71bd422bcfb35d709f98ce7/contractions-0.0.48-py2.py3-none-any.whl\n",
            "Collecting textsearch>=0.0.21\n",
            "  Downloading https://files.pythonhosted.org/packages/d3/fe/021d7d76961b5ceb9f8d022c4138461d83beff36c3938dc424586085e559/textsearch-0.0.21-py2.py3-none-any.whl\n",
            "Collecting pyahocorasick\n",
            "\u001b[?25l  Downloading https://files.pythonhosted.org/packages/7f/c2/eae730037ae1cbbfaa229d27030d1d5e34a1e41114b21447d1202ae9c220/pyahocorasick-1.4.2.tar.gz (321kB)\n",
            "\u001b[K     |████████████████████████████████| 327kB 5.4MB/s \n",
            "\u001b[?25hCollecting anyascii\n",
            "\u001b[?25l  Downloading https://files.pythonhosted.org/packages/09/c7/61370d9e3c349478e89a5554c1e5d9658e1e3116cc4f2528f568909ebdf1/anyascii-0.1.7-py3-none-any.whl (260kB)\n",
            "\u001b[K     |████████████████████████████████| 266kB 7.8MB/s \n",
            "\u001b[?25hBuilding wheels for collected packages: pyahocorasick\n",
            "  Building wheel for pyahocorasick (setup.py) ... \u001b[?25l\u001b[?25hdone\n",
            "  Created wheel for pyahocorasick: filename=pyahocorasick-1.4.2-cp37-cp37m-linux_x86_64.whl size=85399 sha256=7482ccf3a064a6e1d85dcf9c762e2e4f8f638d316afa0b07784a47b3b7c581d2\n",
            "  Stored in directory: /root/.cache/pip/wheels/3a/03/34/77e3ece0bba8b86bfac88a79f923b36d805cad63caeba38842\n",
            "Successfully built pyahocorasick\n",
            "Installing collected packages: pyahocorasick, anyascii, textsearch, contractions\n",
            "Successfully installed anyascii-0.1.7 contractions-0.0.48 pyahocorasick-1.4.2 textsearch-0.0.21\n"
          ],
          "name": "stdout"
        }
      ]
    },
    {
      "cell_type": "code",
      "metadata": {
        "id": "HuUHnssitZ8h"
      },
      "source": [
        "import pandas as pd\n",
        "import numpy as np\n",
        "import re\n",
        "import string \n",
        "from torchtext.data.utils import get_tokenizer\n",
        "from collections import Counter\n",
        "from torchtext.vocab import Vocab\n",
        "import torch\n",
        "from torch.utils.data import Dataset, DataLoader\n",
        "from torch.nn.utils.rnn import pack_padded_sequence, pad_packed_sequence\n"
      ],
      "execution_count": 14,
      "outputs": []
    },
    {
      "cell_type": "code",
      "metadata": {
        "colab": {
          "base_uri": "https://localhost:8080/"
        },
        "id": "9brZ1TqwzhZN",
        "outputId": "8168783d-e143-47a0-df60-f50098ddf20d"
      },
      "source": [
        "from google.colab import drive\n",
        "drive.mount('/content/drive')"
      ],
      "execution_count": 3,
      "outputs": [
        {
          "output_type": "stream",
          "text": [
            "Mounted at /content/drive\n"
          ],
          "name": "stdout"
        }
      ]
    },
    {
      "cell_type": "code",
      "metadata": {
        "colab": {
          "base_uri": "https://localhost:8080/"
        },
        "id": "7p8us99dzt96",
        "outputId": "aaf5f9a3-710c-4492-e2d1-68618c51eebb"
      },
      "source": [
        "%cd drive/MyDrive/NLP project"
      ],
      "execution_count": 4,
      "outputs": [
        {
          "output_type": "stream",
          "text": [
            "/content/drive/MyDrive/NLP project\n"
          ],
          "name": "stdout"
        }
      ]
    },
    {
      "cell_type": "markdown",
      "metadata": {
        "id": "PhmYptintZ9J"
      },
      "source": [
        "# DATA"
      ]
    },
    {
      "cell_type": "code",
      "metadata": {
        "id": "smbhfCmBtZ9M",
        "colab": {
          "base_uri": "https://localhost:8080/"
        },
        "outputId": "d6edae3d-390f-4c88-8cdb-5622091f50fa"
      },
      "source": [
        "train = pd.read_csv('train.csv', sep=',')\n",
        "print(train.shape)"
      ],
      "execution_count": 5,
      "outputs": [
        {
          "output_type": "stream",
          "text": [
            "(159571, 8)\n"
          ],
          "name": "stdout"
        }
      ]
    },
    {
      "cell_type": "code",
      "metadata": {
        "id": "T4wab_9zsfhx",
        "colab": {
          "base_uri": "https://localhost:8080/",
          "height": 491
        },
        "outputId": "5bab09c3-3402-44be-f12c-1e4c5551a9c1"
      },
      "source": [
        "train.head(15)"
      ],
      "execution_count": 6,
      "outputs": [
        {
          "output_type": "execute_result",
          "data": {
            "text/html": [
              "<div>\n",
              "<style scoped>\n",
              "    .dataframe tbody tr th:only-of-type {\n",
              "        vertical-align: middle;\n",
              "    }\n",
              "\n",
              "    .dataframe tbody tr th {\n",
              "        vertical-align: top;\n",
              "    }\n",
              "\n",
              "    .dataframe thead th {\n",
              "        text-align: right;\n",
              "    }\n",
              "</style>\n",
              "<table border=\"1\" class=\"dataframe\">\n",
              "  <thead>\n",
              "    <tr style=\"text-align: right;\">\n",
              "      <th></th>\n",
              "      <th>id</th>\n",
              "      <th>comment_text</th>\n",
              "      <th>toxic</th>\n",
              "      <th>severe_toxic</th>\n",
              "      <th>obscene</th>\n",
              "      <th>threat</th>\n",
              "      <th>insult</th>\n",
              "      <th>identity_hate</th>\n",
              "    </tr>\n",
              "  </thead>\n",
              "  <tbody>\n",
              "    <tr>\n",
              "      <th>0</th>\n",
              "      <td>0000997932d777bf</td>\n",
              "      <td>Explanation\\nWhy the edits made under my usern...</td>\n",
              "      <td>0</td>\n",
              "      <td>0</td>\n",
              "      <td>0</td>\n",
              "      <td>0</td>\n",
              "      <td>0</td>\n",
              "      <td>0</td>\n",
              "    </tr>\n",
              "    <tr>\n",
              "      <th>1</th>\n",
              "      <td>000103f0d9cfb60f</td>\n",
              "      <td>D'aww! He matches this background colour I'm s...</td>\n",
              "      <td>0</td>\n",
              "      <td>0</td>\n",
              "      <td>0</td>\n",
              "      <td>0</td>\n",
              "      <td>0</td>\n",
              "      <td>0</td>\n",
              "    </tr>\n",
              "    <tr>\n",
              "      <th>2</th>\n",
              "      <td>000113f07ec002fd</td>\n",
              "      <td>Hey man, I'm really not trying to edit war. It...</td>\n",
              "      <td>0</td>\n",
              "      <td>0</td>\n",
              "      <td>0</td>\n",
              "      <td>0</td>\n",
              "      <td>0</td>\n",
              "      <td>0</td>\n",
              "    </tr>\n",
              "    <tr>\n",
              "      <th>3</th>\n",
              "      <td>0001b41b1c6bb37e</td>\n",
              "      <td>\"\\nMore\\nI can't make any real suggestions on ...</td>\n",
              "      <td>0</td>\n",
              "      <td>0</td>\n",
              "      <td>0</td>\n",
              "      <td>0</td>\n",
              "      <td>0</td>\n",
              "      <td>0</td>\n",
              "    </tr>\n",
              "    <tr>\n",
              "      <th>4</th>\n",
              "      <td>0001d958c54c6e35</td>\n",
              "      <td>You, sir, are my hero. Any chance you remember...</td>\n",
              "      <td>0</td>\n",
              "      <td>0</td>\n",
              "      <td>0</td>\n",
              "      <td>0</td>\n",
              "      <td>0</td>\n",
              "      <td>0</td>\n",
              "    </tr>\n",
              "    <tr>\n",
              "      <th>5</th>\n",
              "      <td>00025465d4725e87</td>\n",
              "      <td>\"\\n\\nCongratulations from me as well, use the ...</td>\n",
              "      <td>0</td>\n",
              "      <td>0</td>\n",
              "      <td>0</td>\n",
              "      <td>0</td>\n",
              "      <td>0</td>\n",
              "      <td>0</td>\n",
              "    </tr>\n",
              "    <tr>\n",
              "      <th>6</th>\n",
              "      <td>0002bcb3da6cb337</td>\n",
              "      <td>COCKSUCKER BEFORE YOU PISS AROUND ON MY WORK</td>\n",
              "      <td>1</td>\n",
              "      <td>1</td>\n",
              "      <td>1</td>\n",
              "      <td>0</td>\n",
              "      <td>1</td>\n",
              "      <td>0</td>\n",
              "    </tr>\n",
              "    <tr>\n",
              "      <th>7</th>\n",
              "      <td>00031b1e95af7921</td>\n",
              "      <td>Your vandalism to the Matt Shirvington article...</td>\n",
              "      <td>0</td>\n",
              "      <td>0</td>\n",
              "      <td>0</td>\n",
              "      <td>0</td>\n",
              "      <td>0</td>\n",
              "      <td>0</td>\n",
              "    </tr>\n",
              "    <tr>\n",
              "      <th>8</th>\n",
              "      <td>00037261f536c51d</td>\n",
              "      <td>Sorry if the word 'nonsense' was offensive to ...</td>\n",
              "      <td>0</td>\n",
              "      <td>0</td>\n",
              "      <td>0</td>\n",
              "      <td>0</td>\n",
              "      <td>0</td>\n",
              "      <td>0</td>\n",
              "    </tr>\n",
              "    <tr>\n",
              "      <th>9</th>\n",
              "      <td>00040093b2687caa</td>\n",
              "      <td>alignment on this subject and which are contra...</td>\n",
              "      <td>0</td>\n",
              "      <td>0</td>\n",
              "      <td>0</td>\n",
              "      <td>0</td>\n",
              "      <td>0</td>\n",
              "      <td>0</td>\n",
              "    </tr>\n",
              "    <tr>\n",
              "      <th>10</th>\n",
              "      <td>0005300084f90edc</td>\n",
              "      <td>\"\\nFair use rationale for Image:Wonju.jpg\\n\\nT...</td>\n",
              "      <td>0</td>\n",
              "      <td>0</td>\n",
              "      <td>0</td>\n",
              "      <td>0</td>\n",
              "      <td>0</td>\n",
              "      <td>0</td>\n",
              "    </tr>\n",
              "    <tr>\n",
              "      <th>11</th>\n",
              "      <td>00054a5e18b50dd4</td>\n",
              "      <td>bbq \\n\\nbe a man and lets discuss it-maybe ove...</td>\n",
              "      <td>0</td>\n",
              "      <td>0</td>\n",
              "      <td>0</td>\n",
              "      <td>0</td>\n",
              "      <td>0</td>\n",
              "      <td>0</td>\n",
              "    </tr>\n",
              "    <tr>\n",
              "      <th>12</th>\n",
              "      <td>0005c987bdfc9d4b</td>\n",
              "      <td>Hey... what is it..\\n@ | talk .\\nWhat is it......</td>\n",
              "      <td>1</td>\n",
              "      <td>0</td>\n",
              "      <td>0</td>\n",
              "      <td>0</td>\n",
              "      <td>0</td>\n",
              "      <td>0</td>\n",
              "    </tr>\n",
              "    <tr>\n",
              "      <th>13</th>\n",
              "      <td>0006f16e4e9f292e</td>\n",
              "      <td>Before you start throwing accusations and warn...</td>\n",
              "      <td>0</td>\n",
              "      <td>0</td>\n",
              "      <td>0</td>\n",
              "      <td>0</td>\n",
              "      <td>0</td>\n",
              "      <td>0</td>\n",
              "    </tr>\n",
              "    <tr>\n",
              "      <th>14</th>\n",
              "      <td>00070ef96486d6f9</td>\n",
              "      <td>Oh, and the girl above started her arguments w...</td>\n",
              "      <td>0</td>\n",
              "      <td>0</td>\n",
              "      <td>0</td>\n",
              "      <td>0</td>\n",
              "      <td>0</td>\n",
              "      <td>0</td>\n",
              "    </tr>\n",
              "  </tbody>\n",
              "</table>\n",
              "</div>"
            ],
            "text/plain": [
              "                  id  ... identity_hate\n",
              "0   0000997932d777bf  ...             0\n",
              "1   000103f0d9cfb60f  ...             0\n",
              "2   000113f07ec002fd  ...             0\n",
              "3   0001b41b1c6bb37e  ...             0\n",
              "4   0001d958c54c6e35  ...             0\n",
              "5   00025465d4725e87  ...             0\n",
              "6   0002bcb3da6cb337  ...             0\n",
              "7   00031b1e95af7921  ...             0\n",
              "8   00037261f536c51d  ...             0\n",
              "9   00040093b2687caa  ...             0\n",
              "10  0005300084f90edc  ...             0\n",
              "11  00054a5e18b50dd4  ...             0\n",
              "12  0005c987bdfc9d4b  ...             0\n",
              "13  0006f16e4e9f292e  ...             0\n",
              "14  00070ef96486d6f9  ...             0\n",
              "\n",
              "[15 rows x 8 columns]"
            ]
          },
          "metadata": {
            "tags": []
          },
          "execution_count": 6
        }
      ]
    },
    {
      "cell_type": "code",
      "metadata": {
        "id": "5o6cbhqk3Wot"
      },
      "source": [
        "tokenizer = get_tokenizer('basic_english')\n",
        "\n",
        "\n",
        "\n",
        "def clean_text(text):\n",
        "  text=text.lower()\n",
        "  url_pattern = re.compile(r'https?://\\S+|www\\.\\S+')\n",
        "  text=url_pattern.sub(r'', text)\n",
        "  text=re.sub(r'\\d+', '',text)\n",
        "  translator = str.maketrans(string.punctuation, ' '*len(string.punctuation))\n",
        "  text=text.translate(translator)\n",
        "  text=re.sub(r'\\n',' ',text)\n",
        "  text= re.sub(' +', ' ', text)\n",
        "  return(text.strip())\n",
        "\n",
        "\n",
        "  "
      ],
      "execution_count": 7,
      "outputs": []
    },
    {
      "cell_type": "code",
      "metadata": {
        "id": "RCb3XLgj_dAL",
        "colab": {
          "base_uri": "https://localhost:8080/"
        },
        "outputId": "5b2e7cea-4b84-470f-93fa-8b3a81d3279a"
      },
      "source": [
        "X_train=train[\"comment_text\"].apply(clean_text)\n",
        "X_train.head()"
      ],
      "execution_count": 8,
      "outputs": [
        {
          "output_type": "execute_result",
          "data": {
            "text/plain": [
              "0    explanation why the edits made under my userna...\n",
              "1    d aww he matches this background colour i m se...\n",
              "2    hey man i m really not trying to edit war it s...\n",
              "3    more i can t make any real suggestions on impr...\n",
              "4    you sir are my hero any chance you remember wh...\n",
              "Name: comment_text, dtype: object"
            ]
          },
          "metadata": {
            "tags": []
          },
          "execution_count": 8
        }
      ]
    },
    {
      "cell_type": "code",
      "metadata": {
        "colab": {
          "base_uri": "https://localhost:8080/"
        },
        "id": "u0Rt55NTD1oJ",
        "outputId": "044775e4-fc9f-4583-f103-28b2650fe96c"
      },
      "source": [
        "y_train=train[train.columns[2:]].apply(lambda x:np.array(list(x)),axis=1)\n",
        "print(y_train)\n",
        "print(len(y_train))\n",
        "num_class=y_train[0].size\n",
        "print(num_class)"
      ],
      "execution_count": 57,
      "outputs": [
        {
          "output_type": "stream",
          "text": [
            "0         [0, 0, 0, 0, 0, 0]\n",
            "1         [0, 0, 0, 0, 0, 0]\n",
            "2         [0, 0, 0, 0, 0, 0]\n",
            "3         [0, 0, 0, 0, 0, 0]\n",
            "4         [0, 0, 0, 0, 0, 0]\n",
            "                 ...        \n",
            "159566    [0, 0, 0, 0, 0, 0]\n",
            "159567    [0, 0, 0, 0, 0, 0]\n",
            "159568    [0, 0, 0, 0, 0, 0]\n",
            "159569    [0, 0, 0, 0, 0, 0]\n",
            "159570    [0, 0, 0, 0, 0, 0]\n",
            "Length: 159571, dtype: object\n",
            "159571\n",
            "6\n"
          ],
          "name": "stdout"
        }
      ]
    },
    {
      "cell_type": "code",
      "metadata": {
        "id": "4HxGzMpN34IE"
      },
      "source": [
        "tokenizer = get_tokenizer('basic_english')\n",
        "counter = Counter()\n",
        "for text in X_train:\n",
        "  counter.update(tokenizer(text))\n",
        "vocab = Vocab(counter, min_freq=3)\n",
        "\n"
      ],
      "execution_count": 10,
      "outputs": []
    },
    {
      "cell_type": "code",
      "metadata": {
        "colab": {
          "base_uri": "https://localhost:8080/"
        },
        "id": "bcrUJHXCjlsP",
        "outputId": "c36fabae-f3ea-4624-8661-5d9cdf651179"
      },
      "source": [
        "vocab_size=len(vocab)\n",
        "print(vocab_size)"
      ],
      "execution_count": 56,
      "outputs": [
        {
          "output_type": "stream",
          "text": [
            "59868\n"
          ],
          "name": "stdout"
        }
      ]
    },
    {
      "cell_type": "code",
      "metadata": {
        "colab": {
          "base_uri": "https://localhost:8080/"
        },
        "id": "Xm47yCB_5Ejj",
        "outputId": "43557881-c668-47c5-928b-6d903306db57"
      },
      "source": [
        "max_len=X_train.map(lambda x:len(tokenizer(x))).max()\n",
        "print(max_len)"
      ],
      "execution_count": 11,
      "outputs": [
        {
          "output_type": "stream",
          "text": [
            "1403\n"
          ],
          "name": "stdout"
        }
      ]
    },
    {
      "cell_type": "code",
      "metadata": {
        "colab": {
          "base_uri": "https://localhost:8080/"
        },
        "id": "BEBuCFGJIQ-J",
        "outputId": "3d81f60d-42a4-45c6-b994-e5412d78eb32"
      },
      "source": [
        "vocab['<pad>']"
      ],
      "execution_count": 12,
      "outputs": [
        {
          "output_type": "execute_result",
          "data": {
            "text/plain": [
              "1"
            ]
          },
          "metadata": {
            "tags": []
          },
          "execution_count": 12
        }
      ]
    },
    {
      "cell_type": "code",
      "metadata": {
        "id": "b2AF-S_MYESq"
      },
      "source": [
        "text_pipeline = lambda x: [vocab[token] for token in tokenizer(x)]"
      ],
      "execution_count": 37,
      "outputs": []
    },
    {
      "cell_type": "code",
      "metadata": {
        "id": "oRs4wKSRSJDD"
      },
      "source": [
        "device = torch.device(\"cuda\" if torch.cuda.is_available() else \"cpu\")"
      ],
      "execution_count": 13,
      "outputs": []
    },
    {
      "cell_type": "code",
      "metadata": {
        "id": "tk0SBzwnNZr5"
      },
      "source": [
        "class ToxicCommentDataset(Dataset):\n",
        "    \"\"\"Face Landmarks dataset.\"\"\"\n",
        "\n",
        "    def __init__(self, X,y):\n",
        "\n",
        "        self.X =X\n",
        "        self.y =y\n",
        "        \n",
        "\n",
        "    def __len__(self):\n",
        "        return len(self.y)\n",
        "\n",
        "    def __getitem__(self, idx):\n",
        "       \n",
        "        return (self.X[idx],self.y[idx])\n",
        "\n",
        "\n",
        "def collate_batch(batch):\n",
        "    vectorized_seqs=[]\n",
        "    list_label=[]\n",
        "    for text , label in batch:\n",
        "      vectorized_seqs.append(text_pipeline(text))\n",
        "      list_label.append(label)\n",
        "      \n",
        "    seq_lengths=list(map(len, vectorized_seqs))\n",
        "    seq_tensor=torch.ones(size=(len(batch),max_len),dtype=torch.int64)\n",
        "    for idx, (seq, seqlen) in enumerate(zip(vectorized_seqs, seq_lengths)):\n",
        "      seq_tensor[idx, :seqlen] = torch.tensor(seq,dtype=torch.int64)\n",
        "    \n",
        "        \n",
        "    return seq_tensor,torch.tensor(list_label,dtype=torch.int64)\n"
      ],
      "execution_count": 140,
      "outputs": []
    },
    {
      "cell_type": "code",
      "metadata": {
        "id": "8bk7iYynhyOo"
      },
      "source": [
        "from torch import nn\n",
        "from torch import autograd\n",
        "from torch.nn import functional as F\n",
        "class TextClassificationModel(nn.Module):\n",
        "\n",
        "    def __init__(self, vocab_size, embed_dim,hidden_dim, num_class,batch_size):\n",
        "        super(TextClassificationModel, self).__init__()\n",
        "        self.batch_size=batch_size\n",
        "        self.hidden_dim=hidden_dim\n",
        "\n",
        "        self.embedding = nn.Embedding( vocab_size,embed_dim, padding_idx=1)\n",
        "        self.lstm = nn.LSTM(input_size=embed_dim,\n",
        "                            hidden_size=hidden_dim,\n",
        "                            num_layers=1,\n",
        "                            batch_first=True,\n",
        "                            bidirectional=True)\n",
        "        #self.drop = nn.Dropout(p=0.5)\n",
        "\n",
        "        self.fc = nn.Linear(2*hidden_dim,num_class)\n",
        "       # self.hidden = self.init_hidden()\n",
        "\n",
        "    '''def init_hidden(self):\n",
        "        # Before we've done anything, we dont have any hidden state.\n",
        "        # Refer to the Pytorch documentation to see exactly\n",
        "        # why they have this dimensionality.\n",
        "        # The axes semantics are (num_layers * num_directions, minibatch_size, hidden_dim)\n",
        "        return (autograd.Variable(torch.zeros(2, self.batch_size, self.hidden_dim)),   \n",
        "                autograd.Variable(torch.zeros(2, self.batch_size, self.hidden_dim))) '''\n",
        "\n",
        "    def forward(self, text):\n",
        "        embed_text= self.embedding(text)\n",
        "        lstm_out,(hn,cn) = self.lstm(embed_text)\n",
        "        x=torch.cat((hn[0,:,:],hn[1,:,:]),1)\n",
        "        return torch.sigmoid(self.fc(x))\n",
        "\n",
        "      \n",
        "        \n",
        "      \n",
        "\n",
        "        \n"
      ],
      "execution_count": 165,
      "outputs": []
    },
    {
      "cell_type": "code",
      "metadata": {
        "id": "Ffd3duhenCtz"
      },
      "source": [
        "model=TextClassificationModel(vocab_size,100,50,num_class,8)"
      ],
      "execution_count": 166,
      "outputs": []
    },
    {
      "cell_type": "code",
      "metadata": {
        "colab": {
          "base_uri": "https://localhost:8080/"
        },
        "id": "XiHACe-BPV8R",
        "outputId": "ac961687-7b7e-42a0-ab7a-8504314bd933"
      },
      "source": [
        "toxic_train=ToxicCommentDataset(X_train,y_train)\n",
        "dataloader = DataLoader(toxic_train, batch_size=8, shuffle=False,collate_fn=collate_batch)\n",
        "\n",
        "for i,(u,l) in enumerate(dataloader):\n",
        "  \n",
        "  print(model(u))\n",
        " \n",
        "  if i==0:\n",
        "    break\n",
        "   "
      ],
      "execution_count": 169,
      "outputs": [
        {
          "output_type": "stream",
          "text": [
            "tensor([[0.4956, 0.5503, 0.4635, 0.4638, 0.4869, 0.4973],\n",
            "        [0.4972, 0.5113, 0.4568, 0.4486, 0.5102, 0.4949],\n",
            "        [0.5134, 0.4677, 0.4557, 0.4867, 0.5060, 0.5042],\n",
            "        [0.4980, 0.4831, 0.4598, 0.4923, 0.5015, 0.5103],\n",
            "        [0.4675, 0.5204, 0.4753, 0.4779, 0.4990, 0.4994],\n",
            "        [0.4814, 0.5221, 0.4807, 0.4739, 0.5220, 0.5184],\n",
            "        [0.4689, 0.5158, 0.4696, 0.4800, 0.4931, 0.4971],\n",
            "        [0.4742, 0.5212, 0.4645, 0.4822, 0.5276, 0.5036]],\n",
            "       grad_fn=<SigmoidBackward>)\n"
          ],
          "name": "stdout"
        }
      ]
    },
    {
      "cell_type": "code",
      "metadata": {
        "colab": {
          "base_uri": "https://localhost:8080/"
        },
        "id": "TeZbnxzS3BIY",
        "outputId": "8e3a3e5c-f4b6-4ffd-a15e-aabaa79d7862"
      },
      "source": [
        "x=np.arange(40).reshape(2,2,10)\n",
        "print(x.shape)\n",
        "print(x[0,:,:],x[1,:,:])\n",
        "print(np.concatenate((x[0,:,:],x[1,:,:]),axis=1).shape)"
      ],
      "execution_count": 148,
      "outputs": [
        {
          "output_type": "stream",
          "text": [
            "(2, 2, 10)\n",
            "[[ 0  1  2  3  4  5  6  7  8  9]\n",
            " [10 11 12 13 14 15 16 17 18 19]] [[20 21 22 23 24 25 26 27 28 29]\n",
            " [30 31 32 33 34 35 36 37 38 39]]\n",
            "(2, 20)\n"
          ],
          "name": "stdout"
        }
      ]
    }
  ]
}