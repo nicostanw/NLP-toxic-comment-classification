{
  "cells": [
    {
      "cell_type": "markdown",
      "metadata": {
        "colab_type": "text",
        "id": "view-in-github"
      },
      "source": [
        "<a href=\"https://colab.research.google.com/github/nicostanw/NLP_Toxic_Comment_Classification/blob/main/NLP_Project_final.ipynb\" target=\"_parent\"><img src=\"https://colab.research.google.com/assets/colab-badge.svg\" alt=\"Open In Colab\"/></a>"
      ]
    },
    {
      "cell_type": "code",
      "execution_count": 23,
      "metadata": {
        "id": "Xo166gvu92ie"
      },
      "outputs": [],
      "source": [
        "import pandas as pd\n",
        "import numpy as np\n",
        "import re\n",
        "import string \n",
        "from torchtext.data.utils import get_tokenizer\n",
        "from collections import Counter\n",
        "from torchtext.vocab import Vocab\n",
        "import torch\n",
        "from torch.utils.data import Dataset, DataLoader\n",
        "import torch.optim as optim\n",
        "from torch import nn\n",
        "from torch import autograd\n",
        "from torch.nn import functional as F\n",
        "from sklearn.model_selection import train_test_split\n",
        "from sklearn.metrics import roc_auc_score\n",
        "import matplotlib.pyplot as plt\n",
        "import time\n",
        "import copy\n",
        "import tqdm.notebook as tq"
      ]
    },
    {
      "cell_type": "code",
      "execution_count": 2,
      "metadata": {
        "colab": {
          "base_uri": "https://localhost:8080/"
        },
        "id": "0O35F-MQCD7Y",
        "outputId": "1463be88-bca8-4aa1-db9d-d8264d2c9b52"
      },
      "outputs": [
        {
          "name": "stdout",
          "output_type": "stream",
          "text": [
            "Mounted at /content/drive\n"
          ]
        }
      ],
      "source": [
        "from google.colab import drive\n",
        "drive.mount('/content/drive')"
      ]
    },
    {
      "cell_type": "code",
      "execution_count": 3,
      "metadata": {
        "colab": {
          "base_uri": "https://localhost:8080/"
        },
        "id": "evIV9EJHCGVT",
        "outputId": "ef8236bc-00b5-42a9-b24c-99e8e78ed851"
      },
      "outputs": [
        {
          "name": "stdout",
          "output_type": "stream",
          "text": [
            "/content/drive/MyDrive/NLP project\n"
          ]
        }
      ],
      "source": [
        "%cd drive/MyDrive/NLP project"
      ]
    },
    {
      "cell_type": "code",
      "execution_count": 4,
      "metadata": {
        "colab": {
          "base_uri": "https://localhost:8080/"
        },
        "id": "34pD9DTYCOXb",
        "outputId": "4008a493-c099-4153-caf7-4fe4eda65335"
      },
      "outputs": [
        {
          "name": "stdout",
          "output_type": "stream",
          "text": [
            "(159571, 8)\n"
          ]
        }
      ],
      "source": [
        "train = pd.read_csv('train.csv', sep=',')\n",
        "print(train.shape)"
      ]
    },
    {
      "cell_type": "code",
      "execution_count": 5,
      "metadata": {
        "colab": {
          "base_uri": "https://localhost:8080/",
          "height": 491
        },
        "id": "JEMsi-MqCLSy",
        "outputId": "240c507d-d1f1-42a3-bceb-425b40ed7752"
      },
      "outputs": [
        {
          "data": {
            "text/html": [
              "<div>\n",
              "<style scoped>\n",
              "    .dataframe tbody tr th:only-of-type {\n",
              "        vertical-align: middle;\n",
              "    }\n",
              "\n",
              "    .dataframe tbody tr th {\n",
              "        vertical-align: top;\n",
              "    }\n",
              "\n",
              "    .dataframe thead th {\n",
              "        text-align: right;\n",
              "    }\n",
              "</style>\n",
              "<table border=\"1\" class=\"dataframe\">\n",
              "  <thead>\n",
              "    <tr style=\"text-align: right;\">\n",
              "      <th></th>\n",
              "      <th>id</th>\n",
              "      <th>comment_text</th>\n",
              "      <th>toxic</th>\n",
              "      <th>severe_toxic</th>\n",
              "      <th>obscene</th>\n",
              "      <th>threat</th>\n",
              "      <th>insult</th>\n",
              "      <th>identity_hate</th>\n",
              "    </tr>\n",
              "  </thead>\n",
              "  <tbody>\n",
              "    <tr>\n",
              "      <th>0</th>\n",
              "      <td>0000997932d777bf</td>\n",
              "      <td>Explanation\\nWhy the edits made under my usern...</td>\n",
              "      <td>0</td>\n",
              "      <td>0</td>\n",
              "      <td>0</td>\n",
              "      <td>0</td>\n",
              "      <td>0</td>\n",
              "      <td>0</td>\n",
              "    </tr>\n",
              "    <tr>\n",
              "      <th>1</th>\n",
              "      <td>000103f0d9cfb60f</td>\n",
              "      <td>D'aww! He matches this background colour I'm s...</td>\n",
              "      <td>0</td>\n",
              "      <td>0</td>\n",
              "      <td>0</td>\n",
              "      <td>0</td>\n",
              "      <td>0</td>\n",
              "      <td>0</td>\n",
              "    </tr>\n",
              "    <tr>\n",
              "      <th>2</th>\n",
              "      <td>000113f07ec002fd</td>\n",
              "      <td>Hey man, I'm really not trying to edit war. It...</td>\n",
              "      <td>0</td>\n",
              "      <td>0</td>\n",
              "      <td>0</td>\n",
              "      <td>0</td>\n",
              "      <td>0</td>\n",
              "      <td>0</td>\n",
              "    </tr>\n",
              "    <tr>\n",
              "      <th>3</th>\n",
              "      <td>0001b41b1c6bb37e</td>\n",
              "      <td>\"\\nMore\\nI can't make any real suggestions on ...</td>\n",
              "      <td>0</td>\n",
              "      <td>0</td>\n",
              "      <td>0</td>\n",
              "      <td>0</td>\n",
              "      <td>0</td>\n",
              "      <td>0</td>\n",
              "    </tr>\n",
              "    <tr>\n",
              "      <th>4</th>\n",
              "      <td>0001d958c54c6e35</td>\n",
              "      <td>You, sir, are my hero. Any chance you remember...</td>\n",
              "      <td>0</td>\n",
              "      <td>0</td>\n",
              "      <td>0</td>\n",
              "      <td>0</td>\n",
              "      <td>0</td>\n",
              "      <td>0</td>\n",
              "    </tr>\n",
              "    <tr>\n",
              "      <th>5</th>\n",
              "      <td>00025465d4725e87</td>\n",
              "      <td>\"\\n\\nCongratulations from me as well, use the ...</td>\n",
              "      <td>0</td>\n",
              "      <td>0</td>\n",
              "      <td>0</td>\n",
              "      <td>0</td>\n",
              "      <td>0</td>\n",
              "      <td>0</td>\n",
              "    </tr>\n",
              "    <tr>\n",
              "      <th>6</th>\n",
              "      <td>0002bcb3da6cb337</td>\n",
              "      <td>COCKSUCKER BEFORE YOU PISS AROUND ON MY WORK</td>\n",
              "      <td>1</td>\n",
              "      <td>1</td>\n",
              "      <td>1</td>\n",
              "      <td>0</td>\n",
              "      <td>1</td>\n",
              "      <td>0</td>\n",
              "    </tr>\n",
              "    <tr>\n",
              "      <th>7</th>\n",
              "      <td>00031b1e95af7921</td>\n",
              "      <td>Your vandalism to the Matt Shirvington article...</td>\n",
              "      <td>0</td>\n",
              "      <td>0</td>\n",
              "      <td>0</td>\n",
              "      <td>0</td>\n",
              "      <td>0</td>\n",
              "      <td>0</td>\n",
              "    </tr>\n",
              "    <tr>\n",
              "      <th>8</th>\n",
              "      <td>00037261f536c51d</td>\n",
              "      <td>Sorry if the word 'nonsense' was offensive to ...</td>\n",
              "      <td>0</td>\n",
              "      <td>0</td>\n",
              "      <td>0</td>\n",
              "      <td>0</td>\n",
              "      <td>0</td>\n",
              "      <td>0</td>\n",
              "    </tr>\n",
              "    <tr>\n",
              "      <th>9</th>\n",
              "      <td>00040093b2687caa</td>\n",
              "      <td>alignment on this subject and which are contra...</td>\n",
              "      <td>0</td>\n",
              "      <td>0</td>\n",
              "      <td>0</td>\n",
              "      <td>0</td>\n",
              "      <td>0</td>\n",
              "      <td>0</td>\n",
              "    </tr>\n",
              "    <tr>\n",
              "      <th>10</th>\n",
              "      <td>0005300084f90edc</td>\n",
              "      <td>\"\\nFair use rationale for Image:Wonju.jpg\\n\\nT...</td>\n",
              "      <td>0</td>\n",
              "      <td>0</td>\n",
              "      <td>0</td>\n",
              "      <td>0</td>\n",
              "      <td>0</td>\n",
              "      <td>0</td>\n",
              "    </tr>\n",
              "    <tr>\n",
              "      <th>11</th>\n",
              "      <td>00054a5e18b50dd4</td>\n",
              "      <td>bbq \\n\\nbe a man and lets discuss it-maybe ove...</td>\n",
              "      <td>0</td>\n",
              "      <td>0</td>\n",
              "      <td>0</td>\n",
              "      <td>0</td>\n",
              "      <td>0</td>\n",
              "      <td>0</td>\n",
              "    </tr>\n",
              "    <tr>\n",
              "      <th>12</th>\n",
              "      <td>0005c987bdfc9d4b</td>\n",
              "      <td>Hey... what is it..\\n@ | talk .\\nWhat is it......</td>\n",
              "      <td>1</td>\n",
              "      <td>0</td>\n",
              "      <td>0</td>\n",
              "      <td>0</td>\n",
              "      <td>0</td>\n",
              "      <td>0</td>\n",
              "    </tr>\n",
              "    <tr>\n",
              "      <th>13</th>\n",
              "      <td>0006f16e4e9f292e</td>\n",
              "      <td>Before you start throwing accusations and warn...</td>\n",
              "      <td>0</td>\n",
              "      <td>0</td>\n",
              "      <td>0</td>\n",
              "      <td>0</td>\n",
              "      <td>0</td>\n",
              "      <td>0</td>\n",
              "    </tr>\n",
              "    <tr>\n",
              "      <th>14</th>\n",
              "      <td>00070ef96486d6f9</td>\n",
              "      <td>Oh, and the girl above started her arguments w...</td>\n",
              "      <td>0</td>\n",
              "      <td>0</td>\n",
              "      <td>0</td>\n",
              "      <td>0</td>\n",
              "      <td>0</td>\n",
              "      <td>0</td>\n",
              "    </tr>\n",
              "  </tbody>\n",
              "</table>\n",
              "</div>"
            ],
            "text/plain": [
              "                  id  ... identity_hate\n",
              "0   0000997932d777bf  ...             0\n",
              "1   000103f0d9cfb60f  ...             0\n",
              "2   000113f07ec002fd  ...             0\n",
              "3   0001b41b1c6bb37e  ...             0\n",
              "4   0001d958c54c6e35  ...             0\n",
              "5   00025465d4725e87  ...             0\n",
              "6   0002bcb3da6cb337  ...             0\n",
              "7   00031b1e95af7921  ...             0\n",
              "8   00037261f536c51d  ...             0\n",
              "9   00040093b2687caa  ...             0\n",
              "10  0005300084f90edc  ...             0\n",
              "11  00054a5e18b50dd4  ...             0\n",
              "12  0005c987bdfc9d4b  ...             0\n",
              "13  0006f16e4e9f292e  ...             0\n",
              "14  00070ef96486d6f9  ...             0\n",
              "\n",
              "[15 rows x 8 columns]"
            ]
          },
          "execution_count": 5,
          "metadata": {
            "tags": []
          },
          "output_type": "execute_result"
        }
      ],
      "source": [
        "train.head(15)"
      ]
    },
    {
      "cell_type": "markdown",
      "metadata": {
        "id": "IeSuVe25HlT0"
      },
      "source": [
        "# Data preprocessing"
      ]
    },
    {
      "cell_type": "code",
      "execution_count": 6,
      "metadata": {
        "id": "jD34nUPOCQWo"
      },
      "outputs": [],
      "source": [
        "tokenizer = get_tokenizer('basic_english')\n",
        "\n",
        "# Tokenization, on réduit les phrases en bouts simples\n",
        "\n",
        "def clean_text(text):\n",
        "  text = text.lower() #put in minuscule\n",
        "  url_pattern = re.compile(r'https?://\\S+|www\\.\\S+') #remove links \n",
        "  text = url_pattern.sub(r'', text)\n",
        "  text = re.sub(r'\\d+', '',text) #remove numbers\n",
        "  translator = str.maketrans(string.punctuation, ' '*len(string.punctuation)) #remove poncutation \n",
        "  text = text.translate(translator)\n",
        "  text = re.sub(r'\\n',' ',text) #remove the /n\n",
        "  text = re.sub(' +', ' ', text) #remove big spaces\n",
        "  return(text.strip())  "
      ]
    },
    {
      "cell_type": "code",
      "execution_count": 7,
      "metadata": {
        "colab": {
          "base_uri": "https://localhost:8080/"
        },
        "id": "WeCWfZtYCScd",
        "outputId": "11a0928e-3e5f-4a09-8170-9a7561c38e3a"
      },
      "outputs": [
        {
          "data": {
            "text/plain": [
              "0    explanation why the edits made under my userna...\n",
              "1    d aww he matches this background colour i m se...\n",
              "2    hey man i m really not trying to edit war it s...\n",
              "3    more i can t make any real suggestions on impr...\n",
              "4    you sir are my hero any chance you remember wh...\n",
              "Name: comment_text, dtype: object"
            ]
          },
          "execution_count": 7,
          "metadata": {
            "tags": []
          },
          "output_type": "execute_result"
        }
      ],
      "source": [
        "X = train[\"comment_text\"].apply(clean_text)\n",
        "X.head()"
      ]
    },
    {
      "cell_type": "code",
      "execution_count": 8,
      "metadata": {
        "colab": {
          "base_uri": "https://localhost:8080/"
        },
        "id": "b1BczqXbCUEN",
        "outputId": "370cebd5-4c3d-4af8-83b2-716666bd3aab"
      },
      "outputs": [
        {
          "name": "stdout",
          "output_type": "stream",
          "text": [
            "0         [0, 0, 0, 0, 0, 0]\n",
            "1         [0, 0, 0, 0, 0, 0]\n",
            "2         [0, 0, 0, 0, 0, 0]\n",
            "3         [0, 0, 0, 0, 0, 0]\n",
            "4         [0, 0, 0, 0, 0, 0]\n",
            "                 ...        \n",
            "159566    [0, 0, 0, 0, 0, 0]\n",
            "159567    [0, 0, 0, 0, 0, 0]\n",
            "159568    [0, 0, 0, 0, 0, 0]\n",
            "159569    [0, 0, 0, 0, 0, 0]\n",
            "159570    [0, 0, 0, 0, 0, 0]\n",
            "Length: 159571, dtype: object\n",
            "159571\n",
            "6\n",
            "[15294  1595  8449   478  7877  1405]\n"
          ]
        }
      ],
      "source": [
        "y = train[train.columns[2:]].apply(lambda x:np.array(list(x)),axis=1)\n",
        "print(y) \n",
        "print(len(y))\n",
        "num_class = y[0].size\n",
        "print(num_class)"
      ]
    },
    {
      "cell_type": "markdown",
      "metadata": {
        "id": "xdABURmXIOBX"
      },
      "source": [
        "# Construction du vocabulaire"
      ]
    },
    {
      "cell_type": "code",
      "execution_count": 9,
      "metadata": {
        "id": "sYfFxb6GCWCo"
      },
      "outputs": [],
      "source": [
        "tokenizer = get_tokenizer('basic_english')\n",
        "counter = Counter()\n",
        "for text in X:\n",
        "  counter.update(tokenizer(text))\n",
        "vocab = Vocab(counter, min_freq=3) #Le vocab qui apparait au moins 3 fois"
      ]
    },
    {
      "cell_type": "code",
      "execution_count": 10,
      "metadata": {
        "colab": {
          "base_uri": "https://localhost:8080/"
        },
        "id": "E-P2VgaACX_a",
        "outputId": "df8d3e62-54d5-47c8-b56b-247220717270"
      },
      "outputs": [
        {
          "name": "stdout",
          "output_type": "stream",
          "text": [
            "59868\n"
          ]
        }
      ],
      "source": [
        "vocab_size = len(vocab)\n",
        "print(vocab_size) #En tout on a 59 868 mots qui apparaissent au moins 3 fois"
      ]
    },
    {
      "cell_type": "code",
      "execution_count": 11,
      "metadata": {
        "colab": {
          "base_uri": "https://localhost:8080/"
        },
        "id": "N-RaSX5eCZo4",
        "outputId": "75e76bb0-d998-4d18-fd11-b2816af5b3a4"
      },
      "outputs": [
        {
          "name": "stdout",
          "output_type": "stream",
          "text": [
            "1403\n"
          ]
        }
      ],
      "source": [
        "max_len = X.map(lambda x:len(tokenizer(x))).max() #Le plus long texte \n",
        "print(max_len)\n",
        "print(vocab['<pad>']) # Tous nos textes une fois finis seront complétés par '<pad>' jusqu'à atteindre le nombre maximal de mots 1403\n",
        "# Plus présicément ce seront leurs formes vectorisées qui seront complétées par des 1"
      ]
    },
    {
      "cell_type": "code",
      "execution_count": 12,
      "metadata": {
        "id": "SW46ILayCbXU"
      },
      "outputs": [],
      "source": [
        "text_pipeline = lambda x: [vocab[token] for token in tokenizer(x)]\n",
        "device = torch.device(\"cuda\" if torch.cuda.is_available() else \"cpu\")"
      ]
    },
    {
      "cell_type": "markdown",
      "metadata": {
        "id": "riabuVLEIaKv"
      },
      "source": [
        "# Construction du Dataloader Pytorch"
      ]
    },
    {
      "cell_type": "code",
      "execution_count": 13,
      "metadata": {
        "id": "r9__V9yFCe1x"
      },
      "outputs": [],
      "source": [
        "class ToxicCommentDataset(Dataset):\n",
        "    \"\"\"Face Landmarks dataset\"\"\"\n",
        "\n",
        "    def __init__(self, X,y):\n",
        "        self.X = X\n",
        "        self.y = y\n",
        "        \n",
        "\n",
        "    def __len__(self):\n",
        "        return len(self.y)\n",
        "\n",
        "    def __getitem__(self, idx):\n",
        "       \n",
        "        return (self.X.iloc[idx], self.y.iloc[idx])"
      ]
    },
    {
      "cell_type": "markdown",
      "metadata": {
        "id": "NhN6uc9BJ3LA"
      },
      "source": [
        "# Fonction qui prend en entrée les éléments d'un batch et transforme chacun des ces éléments (des textes) par sa version vectorisée en accord avec le vocubalaire définit précédemment"
      ]
    },
    {
      "cell_type": "code",
      "execution_count": null,
      "metadata": {
        "id": "RSOXymTEJvtf"
      },
      "outputs": [],
      "source": [
        "def collate_batch(batch): \n",
        "    vectorized_seqs = []\n",
        "    list_label = []\n",
        "    for text, label in batch:\n",
        "      vectorized_seqs.append(text_pipeline(text))\n",
        "      list_label.append(label)\n",
        "      \n",
        "    seq_lengths = list(map(len, vectorized_seqs))\n",
        "    \n",
        "    seq_tensor = torch.ones(size=(len(batch),max_len), dtype=torch.int64)\n",
        "    for idx, (seq, seqlen) in enumerate(zip(vectorized_seqs, seq_lengths)):\n",
        "      seq_tensor[idx,:seqlen] = torch.tensor(seq, dtype=torch.int64)\n",
        "    \n",
        "        \n",
        "    return seq_tensor.to(device), torch.tensor(list_label,dtype=torch.int64).to(device)"
      ]
    },
    {
      "cell_type": "markdown",
      "metadata": {
        "id": "S1j7D8pvKdJA"
      },
      "source": [
        "# Création du modèle BI-LSTM\n"
      ]
    },
    {
      "cell_type": "code",
      "execution_count": 14,
      "metadata": {
        "id": "TKQFysffCisP"
      },
      "outputs": [],
      "source": [
        "\n",
        "class TextClassificationModel(nn.Module):\n",
        "\n",
        "    def __init__(self, vocab_size, embed_dim, hidden_dim, num_class):\n",
        "        super(TextClassificationModel, self).__init__()\n",
        "      \n",
        "        self.hidden_dim = hidden_dim\n",
        "\n",
        "        self.embedding = nn.Embedding(vocab_size, embed_dim, padding_idx=1)\n",
        "        self.lstm = nn.LSTM(input_size=embed_dim,\n",
        "                            hidden_size=hidden_dim,\n",
        "                            num_layers=1,\n",
        "                            batch_first=True,\n",
        "                            bidirectional=True)\n",
        "        self.drop = nn.Dropout(p=0.5)\n",
        "\n",
        "        self.fc = nn.Linear(2*hidden_dim, num_class)\n",
        "       # self.hidden = self.init_hidden()\n",
        "\n",
        "    '''def init_hidden(self):\n",
        "        # Before we've done anything, we dont have any hidden state.\n",
        "        # Refer to the Pytorch documentation to see exactly\n",
        "        # why they have this dimensionality.\n",
        "        # The axes semantics are (num_layers * num_directions, minibatch_size, hidden_dim)\n",
        "        return (autograd.Variable(torch.zeros(2, self.batch_size, self.hidden_dim)),   \n",
        "                autograd.Variable(torch.zeros(2, self.batch_size, self.hidden_dim))) '''\n",
        "\n",
        "    def forward(self, text):\n",
        "        embed_text = self.embedding(text)\n",
        "        _,(hn,_) = self.lstm(embed_text)\n",
        "        x = torch.cat((hn[0,:,:],hn[1,:,:]),1)\n",
        "        x = self.drop(x)\n",
        "      \n",
        "        return torch.sigmoid(self.fc(x))"
      ]
    },
    {
      "cell_type": "markdown",
      "metadata": {
        "id": "c_x2WevJKqQi"
      },
      "source": [
        "# Fonction pour entrainer et évaluer le modèle. On sélectionne les paramètres du modèle qui obtiennent le meilleur roc_auc_score en moyenne sur les 6 classes"
      ]
    },
    {
      "cell_type": "code",
      "execution_count": 61,
      "metadata": {
        "id": "W4naqefFBs3u"
      },
      "outputs": [],
      "source": [
        "\n",
        "def train_model(model, X, y, optimizer, batch_size=10, num_epochs=9):\n",
        "    \n",
        "    X_train, X_val, y_train, y_val = train_test_split(X, y, random_state=5, test_size=0.2)\n",
        "    toxic_train = ToxicCommentDataset(X_train, y_train)\n",
        "    trainloader = DataLoader(ToxicCommentDataset(X_train, y_train), batch_size=batch_size, shuffle=True, collate_fn=collate_batch)\n",
        "    valloader   = DataLoader(ToxicCommentDataset(X_val, y_val), batch_size=500, shuffle=False, collate_fn=collate_batch)\n",
        "    criterion = nn.BCELoss(reduction='sum')\n",
        "    since = time.time()\n",
        "    loss_val_history = []\n",
        "    map_history = []\n",
        "    roc_auc_history = []\n",
        "\n",
        "    best_map = 0.0\n",
        "    best_roc_auc = 0.0\n",
        "    for epoch in range(1, num_epochs+1):\n",
        "        \n",
        "        running_train_loss = 0.0\n",
        "        best_model_wts = copy.deepcopy(model.state_dict())\n",
        "        \n",
        "        \n",
        "        model.train()\n",
        "        # Iterate over data.\n",
        "        for j, (inputs, labels) in tq.tqdm(enumerate(trainloader)):\n",
        "        \n",
        "                # zero the parameter gradients\n",
        "                optimizer.zero_grad()\n",
        "              \n",
        "                # forward\n",
        "                # track history if only in train\n",
        "                outputs = model(inputs)\n",
        "                \n",
        "                loss = criterion(outputs, labels.float())\n",
        "                \n",
        "                #running_corrects += torch.sum(preds == labels.data[:,z])\n",
        "                # backward + optimize only if in training phase\n",
        "                loss.backward()\n",
        "                optimizer.step()\n",
        "          \n",
        "                running_train_loss += loss.item()\n",
        "             \n",
        "                if j%364 == 0:\n",
        "                  model.eval()  \n",
        "                  map = 0 \n",
        "                  i = 0\n",
        "                  running_val_loss = 0.0\n",
        "                  predict_proba = np.zeros((len(valloader.dataset), num_class))\n",
        "                  if j==0 and epoch==1:\n",
        "                    y_true = np.zeros((len(valloader.dataset), num_class))\n",
        "\n",
        "                  with torch.no_grad():   \n",
        "                    for val_inp, val_lab in valloader:\n",
        "                      \n",
        "                      val_out = model(val_inp)\n",
        "                     \n",
        "                      loss = criterion(val_out, val_lab.float())\n",
        "                      running_val_loss += loss.item() \n",
        "                      preds = torch.where(val_out<0.5,0,1)\n",
        "                    \n",
        "                      predict_proba[i*len(val_lab):(i+1)*len(val_lab),:] = val_out.detach().cpu().numpy()\n",
        "                      if j==0 and epoch==1:\n",
        "                        y_true[i*len(val_lab):(i+1)*len(val_lab),:] = val_lab.detach().cpu().numpy()\n",
        "                      map += (preds==val_lab).float().mean()\n",
        "                      i += 1\n",
        "                  mean_roc_auc=0\n",
        "                  for u in range(num_class):\n",
        "                    mean_roc_auc += roc_auc_score(y_true[:,u], predict_proba[:,u])\n",
        "                  mean_roc_auc = mean_roc_auc/num_class\n",
        "\n",
        "                  runnig_val_loss = running_val_loss/(len(valloader.dataset)*num_class)\n",
        "                  map = map/i\n",
        "                  roc_auc_history.append(mean_roc_auc)\n",
        "                  loss_val_history.append(running_val_loss)\n",
        "                  map_history.append(map)\n",
        "                  print(f\"Epoch[{epoch}/{num_epochs}], batch[{j+1}/{len(trainloader.dataset)//batch_size}]: val_loss={running_val_loss:.3f}\",\n",
        "                        f\"mean average precision={map:.3f}\", f\" mean_roc_auc={mean_roc_auc:.3f}\")\n",
        "                  if mean_roc_auc > best_roc_auc:\n",
        "                    best_model_wts = copy.deepcopy(model.state_dict())\n",
        "\n",
        "                  model.train()\n",
        "    model.load_state_dict(best_model_wts)\n",
        "    time_elapsed = time.time() - since\n",
        "    print('Training complete in {:.0f}m {:.0f}s'.format(\n",
        "          time_elapsed // 60, time_elapsed % 60))\n",
        "    return model, loss_val_history, map_history, roc_auc_history"
      ]
    },
    {
      "cell_type": "markdown",
      "metadata": {
        "id": "2sqDH6ClLJ03"
      },
      "source": [
        "# Entraînement et évaluation du modèle"
      ]
    },
    {
      "cell_type": "code",
      "execution_count": 95,
      "metadata": {
        "id": "w5A5M8fEgGE5"
      },
      "outputs": [],
      "source": [
        "batch_size = 50\n",
        "model = TextClassificationModel(vocab_size,100,100,num_class).to(device)\n",
        "optimizer = optim.Adam(model.parameters(),lr=1e-3)"
      ]
    },
    {
      "cell_type": "code",
      "execution_count": 96,
      "metadata": {
        "colab": {
          "base_uri": "https://localhost:8080/",
          "height": 950,
          "referenced_widgets": [
            "e19a98538f2541ee8439e5f564c21d66",
            "35cda55e548f41b3863fd702abe0ee83",
            "d1ed1acbefcc4266898008d5d8ce6055",
            "2d4e0af812794e34ab8a99f858c01ec5",
            "b633c69094474ab989f308f89e245f09",
            "a2b0e5b8c2b04198ae21f9b21ad5b6f0",
            "5ac43f062056433d9c1f118afa94d256",
            "22aa21b3f87f4c8a83d7d261a920688b",
            "974e82d7c4ac47509f28d8fedfe9cf36",
            "bbad9010441245b0b4c6716d9006cc5e",
            "142391967c0c47249ec7c0455f0ce9c7",
            "8613d3e418c84b2f80b6b02f6218bc0b",
            "0863dd4b637849429e82dac9615f6168",
            "6593d67539a640c2b5ee391f6fe8d313",
            "0e1fc519f2a04c66894af364eacef405",
            "83a25cf1d213404d8d5d70bfa7855f72",
            "fd7ffbec18a141e394c56877bab1f931",
            "ae6caa0a65c4474289e2e05ce42807de",
            "0378377de14346aabc33ab8821daa30a",
            "a18a068d21bb402c88bb7d8c74bc6db1",
            "59a69122cda34bfc84d8ddacba9a69c5",
            "9fa4bd3d2e8b4483a6b5e71b0220de2b",
            "e2b88ad4c7404d109bf7aa8dbe5afad6",
            "39bfae9dcb8b427eb31313e227d945f1",
            "8be300cdc21f4255acceb2b474259ef6",
            "d381695edcb4437ab08a756438cf5dfa",
            "0fdaacae47934d1bba77e7627ef8ac76",
            "50d219f492ae44528941db9e200eb685",
            "6650986b2ccf42d98dda103564138210",
            "2188921454e94430ac76d2d1cbb67ac3",
            "b982919063294e05ac51b39270cd1d58",
            "e0ad48738dd8493fa6427bcd9c9bec1a",
            "44d577e3e0cd41bf94d8f5e2443bfe37",
            "733095d7a0ff4ae0930fe0894d9793af",
            "9b6c87b7934c430e923bf1d28089fd56",
            "45e1e8b6b428484fb7fe6d55c659316d",
            "ea92ae0323c543deb78af4d56f14e623",
            "0192ea6e97fe476292bf5a456b87c885",
            "15059d589f984cc8b768456a072184b6",
            "8d88bf60c68042dab95159a2742d42e8"
          ]
        },
        "id": "33LkOcIllyVC",
        "outputId": "aa5a6a99-3ddb-4b2e-8d87-a16157779428"
      },
      "outputs": [
        {
          "data": {
            "application/vnd.jupyter.widget-view+json": {
              "model_id": "e19a98538f2541ee8439e5f564c21d66",
              "version_major": 2,
              "version_minor": 0
            },
            "text/plain": [
              "HBox(children=(FloatProgress(value=1.0, bar_style='info', max=1.0), HTML(value='')))"
            ]
          },
          "metadata": {
            "tags": []
          },
          "output_type": "display_data"
        },
        {
          "name": "stdout",
          "output_type": "stream",
          "text": [
            "Epoch[1/5],batch[1/2553]: val_loss=128110.328 mean average precision=0.762  mean_roc_auc=0.488\n",
            "Epoch[1/5],batch[365/2553]: val_loss=20061.802 mean average precision=0.970  mean_roc_auc=0.833\n",
            "Epoch[1/5],batch[729/2553]: val_loss=15133.885 mean average precision=0.976  mean_roc_auc=0.922\n",
            "Epoch[1/5],batch[1093/2553]: val_loss=13057.624 mean average precision=0.978  mean_roc_auc=0.950\n",
            "Epoch[1/5],batch[1457/2553]: val_loss=12345.977 mean average precision=0.978  mean_roc_auc=0.957\n",
            "Epoch[1/5],batch[1821/2553]: val_loss=11813.394 mean average precision=0.979  mean_roc_auc=0.959\n",
            "Epoch[1/5],batch[2185/2553]: val_loss=10891.167 mean average precision=0.981  mean_roc_auc=0.965\n",
            "Epoch[1/5],batch[2549/2553]: val_loss=10612.339 mean average precision=0.981  mean_roc_auc=0.968\n",
            "\n"
          ]
        },
        {
          "data": {
            "application/vnd.jupyter.widget-view+json": {
              "model_id": "974e82d7c4ac47509f28d8fedfe9cf36",
              "version_major": 2,
              "version_minor": 0
            },
            "text/plain": [
              "HBox(children=(FloatProgress(value=1.0, bar_style='info', max=1.0), HTML(value='')))"
            ]
          },
          "metadata": {
            "tags": []
          },
          "output_type": "display_data"
        },
        {
          "name": "stdout",
          "output_type": "stream",
          "text": [
            "Epoch[2/5],batch[1/2553]: val_loss=10562.894 mean average precision=0.981  mean_roc_auc=0.969\n",
            "Epoch[2/5],batch[365/2553]: val_loss=10209.362 mean average precision=0.981  mean_roc_auc=0.971\n",
            "Epoch[2/5],batch[729/2553]: val_loss=11991.170 mean average precision=0.980  mean_roc_auc=0.947\n",
            "Epoch[2/5],batch[1093/2553]: val_loss=10530.824 mean average precision=0.981  mean_roc_auc=0.968\n",
            "Epoch[2/5],batch[1457/2553]: val_loss=9927.492 mean average precision=0.982  mean_roc_auc=0.973\n",
            "Epoch[2/5],batch[1821/2553]: val_loss=9773.583 mean average precision=0.982  mean_roc_auc=0.974\n",
            "Epoch[2/5],batch[2185/2553]: val_loss=9727.911 mean average precision=0.982  mean_roc_auc=0.974\n",
            "Epoch[2/5],batch[2549/2553]: val_loss=9455.142 mean average precision=0.982  mean_roc_auc=0.977\n",
            "\n"
          ]
        },
        {
          "data": {
            "application/vnd.jupyter.widget-view+json": {
              "model_id": "fd7ffbec18a141e394c56877bab1f931",
              "version_major": 2,
              "version_minor": 0
            },
            "text/plain": [
              "HBox(children=(FloatProgress(value=1.0, bar_style='info', max=1.0), HTML(value='')))"
            ]
          },
          "metadata": {
            "tags": []
          },
          "output_type": "display_data"
        },
        {
          "name": "stdout",
          "output_type": "stream",
          "text": [
            "Epoch[3/5],batch[1/2553]: val_loss=9410.352 mean average precision=0.982  mean_roc_auc=0.977\n",
            "Epoch[3/5],batch[365/2553]: val_loss=9558.419 mean average precision=0.982  mean_roc_auc=0.977\n",
            "Epoch[3/5],batch[729/2553]: val_loss=9200.189 mean average precision=0.982  mean_roc_auc=0.978\n",
            "Epoch[3/5],batch[1093/2553]: val_loss=9170.535 mean average precision=0.983  mean_roc_auc=0.979\n",
            "Epoch[3/5],batch[1457/2553]: val_loss=9274.384 mean average precision=0.982  mean_roc_auc=0.979\n",
            "Epoch[3/5],batch[1821/2553]: val_loss=8947.084 mean average precision=0.983  mean_roc_auc=0.979\n",
            "Epoch[3/5],batch[2185/2553]: val_loss=12276.974 mean average precision=0.979  mean_roc_auc=0.960\n",
            "Epoch[3/5],batch[2549/2553]: val_loss=10277.927 mean average precision=0.981  mean_roc_auc=0.970\n",
            "\n"
          ]
        },
        {
          "data": {
            "application/vnd.jupyter.widget-view+json": {
              "model_id": "8be300cdc21f4255acceb2b474259ef6",
              "version_major": 2,
              "version_minor": 0
            },
            "text/plain": [
              "HBox(children=(FloatProgress(value=1.0, bar_style='info', max=1.0), HTML(value='')))"
            ]
          },
          "metadata": {
            "tags": []
          },
          "output_type": "display_data"
        },
        {
          "name": "stdout",
          "output_type": "stream",
          "text": [
            "Epoch[4/5],batch[1/2553]: val_loss=10349.937 mean average precision=0.981  mean_roc_auc=0.970\n",
            "Epoch[4/5],batch[365/2553]: val_loss=9690.702 mean average precision=0.982  mean_roc_auc=0.975\n",
            "Epoch[4/5],batch[729/2553]: val_loss=9303.316 mean average precision=0.982  mean_roc_auc=0.977\n",
            "Epoch[4/5],batch[1093/2553]: val_loss=9116.590 mean average precision=0.983  mean_roc_auc=0.978\n",
            "Epoch[4/5],batch[1457/2553]: val_loss=9106.045 mean average precision=0.983  mean_roc_auc=0.979\n",
            "Epoch[4/5],batch[1821/2553]: val_loss=9071.329 mean average precision=0.983  mean_roc_auc=0.979\n",
            "Epoch[4/5],batch[2185/2553]: val_loss=8984.179 mean average precision=0.983  mean_roc_auc=0.980\n",
            "Epoch[4/5],batch[2549/2553]: val_loss=8950.120 mean average precision=0.983  mean_roc_auc=0.981\n",
            "\n"
          ]
        },
        {
          "data": {
            "application/vnd.jupyter.widget-view+json": {
              "model_id": "44d577e3e0cd41bf94d8f5e2443bfe37",
              "version_major": 2,
              "version_minor": 0
            },
            "text/plain": [
              "HBox(children=(FloatProgress(value=1.0, bar_style='info', max=1.0), HTML(value='')))"
            ]
          },
          "metadata": {
            "tags": []
          },
          "output_type": "display_data"
        },
        {
          "name": "stdout",
          "output_type": "stream",
          "text": [
            "Epoch[5/5],batch[1/2553]: val_loss=8839.346 mean average precision=0.983  mean_roc_auc=0.981\n",
            "Epoch[5/5],batch[365/2553]: val_loss=8872.803 mean average precision=0.983  mean_roc_auc=0.981\n",
            "Epoch[5/5],batch[729/2553]: val_loss=8875.332 mean average precision=0.983  mean_roc_auc=0.980\n",
            "Epoch[5/5],batch[1093/2553]: val_loss=8924.741 mean average precision=0.983  mean_roc_auc=0.981\n",
            "Epoch[5/5],batch[1457/2553]: val_loss=9017.682 mean average precision=0.983  mean_roc_auc=0.981\n",
            "Epoch[5/5],batch[1821/2553]: val_loss=9176.468 mean average precision=0.983  mean_roc_auc=0.979\n",
            "Epoch[5/5],batch[2185/2553]: val_loss=9124.640 mean average precision=0.983  mean_roc_auc=0.980\n",
            "Epoch[5/5],batch[2549/2553]: val_loss=8976.265 mean average precision=0.983  mean_roc_auc=0.981\n",
            "\n",
            "Training complete in 40m 60s\n"
          ]
        }
      ],
      "source": [
        "model, loss_val_history, map_history, roc_auc_history = train_model(model, X, y, optimizer, batch_size=50, num_epochs=5)"
      ]
    },
    {
      "cell_type": "markdown",
      "metadata": {
        "id": "22ofbj6pLUeG"
      },
      "source": [
        "# On définit le deuxième modèle"
      ]
    },
    {
      "cell_type": "code",
      "execution_count": 65,
      "metadata": {
        "colab": {
          "base_uri": "https://localhost:8080/",
          "height": 400,
          "referenced_widgets": [
            "3c60819650744b94b1db0aca251b2aa0",
            "dcf1f72b0256463680652d6934bb5e89",
            "8e9f722f28274ec0a9027d8784be7e01",
            "ace4e6f123c24848a1f2bdfa2c37fd8f",
            "61e4bc8623f54af9afffeb0f9572a5b3",
            "ffc84115ab1547bc99e5bd5c2d12643b",
            "aa1efe499f304cd786e5931a18e179c4",
            "ff5f96217ae842799de870ec3c70b84a",
            "f279e53517ac442a8ade1f20b27ab432",
            "08c1722c8a2643f6b9c7a601aad6efe7",
            "ff5768a8ef6443208bc69c4e134823ea",
            "cde28ab4dfb44276a0cd5a5e0f4e2310",
            "c78efb814805474297331fcad79162b5",
            "7167082315d345e4a159502a10107c40",
            "c8b05c46ddff4f84b16764406c24f8b3",
            "0613842b13a14fe6a17b079f4680a90c"
          ]
        },
        "id": "v1a8kVPB4AyB",
        "outputId": "e0155b20-1b06-406a-bfe1-f45ed83a834d"
      },
      "outputs": [
        {
          "data": {
            "application/vnd.jupyter.widget-view+json": {
              "model_id": "3c60819650744b94b1db0aca251b2aa0",
              "version_major": 2,
              "version_minor": 0
            },
            "text/plain": [
              "HBox(children=(FloatProgress(value=1.0, bar_style='info', max=1.0), HTML(value='')))"
            ]
          },
          "metadata": {
            "tags": []
          },
          "output_type": "display_data"
        },
        {
          "name": "stdout",
          "output_type": "stream",
          "text": [
            "Epoch[1/2],batch[1/2553]: val_loss=9043.986 mean average precision=0.983  mean_roc_auc=0.981\n",
            "Epoch[1/2],batch[365/2553]: val_loss=9252.085 mean average precision=0.983  mean_roc_auc=0.982\n",
            "Epoch[1/2],batch[729/2553]: val_loss=9289.302 mean average precision=0.982  mean_roc_auc=0.982\n",
            "Epoch[1/2],batch[1093/2553]: val_loss=9458.588 mean average precision=0.983  mean_roc_auc=0.981\n",
            "Epoch[1/2],batch[1457/2553]: val_loss=9291.348 mean average precision=0.983  mean_roc_auc=0.981\n",
            "Epoch[1/2],batch[1821/2553]: val_loss=9463.379 mean average precision=0.983  mean_roc_auc=0.982\n",
            "Epoch[1/2],batch[2185/2553]: val_loss=9296.281 mean average precision=0.983  mean_roc_auc=0.982\n",
            "Epoch[1/2],batch[2549/2553]: val_loss=9679.643 mean average precision=0.983  mean_roc_auc=0.981\n",
            "\n"
          ]
        },
        {
          "data": {
            "application/vnd.jupyter.widget-view+json": {
              "model_id": "f279e53517ac442a8ade1f20b27ab432",
              "version_major": 2,
              "version_minor": 0
            },
            "text/plain": [
              "HBox(children=(FloatProgress(value=1.0, bar_style='info', max=1.0), HTML(value='')))"
            ]
          },
          "metadata": {
            "tags": []
          },
          "output_type": "display_data"
        },
        {
          "name": "stdout",
          "output_type": "stream",
          "text": [
            "Epoch[2/2],batch[1/2553]: val_loss=9654.759 mean average precision=0.983  mean_roc_auc=0.981\n",
            "Epoch[2/2],batch[365/2553]: val_loss=9769.775 mean average precision=0.982  mean_roc_auc=0.981\n",
            "Epoch[2/2],batch[729/2553]: val_loss=9612.522 mean average precision=0.982  mean_roc_auc=0.981\n",
            "Epoch[2/2],batch[1093/2553]: val_loss=9527.517 mean average precision=0.982  mean_roc_auc=0.981\n",
            "Epoch[2/2],batch[1457/2553]: val_loss=9700.274 mean average precision=0.982  mean_roc_auc=0.981\n",
            "Epoch[2/2],batch[1821/2553]: val_loss=10005.186 mean average precision=0.983  mean_roc_auc=0.981\n",
            "Epoch[2/2],batch[2185/2553]: val_loss=9832.951 mean average precision=0.983  mean_roc_auc=0.982\n",
            "Epoch[2/2],batch[2549/2553]: val_loss=9481.984 mean average precision=0.982  mean_roc_auc=0.982\n",
            "\n",
            "Training complete in 16m 25s\n"
          ]
        }
      ],
      "source": [
        "model2, loss_val_history, map_history, roc_auc_history = train_model(model, X, y, optimizer, batch_size=50,num_epochs=2)"
      ]
    },
    {
      "cell_type": "markdown",
      "metadata": {
        "id": "-Ci8PCkfL4We"
      },
      "source": [
        "# On réalise nos prédictions sur le test set"
      ]
    },
    {
      "cell_type": "code",
      "execution_count": 75,
      "metadata": {
        "colab": {
          "base_uri": "https://localhost:8080/"
        },
        "id": "XnGjs1yr4PgU",
        "outputId": "bf1b425f-bed1-4f9b-a899-d947268cd863"
      },
      "outputs": [
        {
          "name": "stdout",
          "output_type": "stream",
          "text": [
            "                      id                                       comment_text\n",
            "0       00001cee341fdb12  Yo bitch Ja Rule is more succesful then you'll...\n",
            "1       0000247867823ef7  == From RfC == \\n\\n The title is fine as it is...\n",
            "2       00013b17ad220c46  \" \\n\\n == Sources == \\n\\n * Zawe Ashton on Lap...\n",
            "3       00017563c3f7919a  :If you have a look back at the source, the in...\n",
            "4       00017695ad8997eb          I don't anonymously edit articles at all.\n",
            "...                  ...                                                ...\n",
            "153159  fffcd0960ee309b5  . \\n i totally agree, this stuff is nothing bu...\n",
            "153160  fffd7a9a6eb32c16  == Throw from out field to home plate. == \\n\\n...\n",
            "153161  fffda9e8d6fafa9e  \" \\n\\n == Okinotorishima categories == \\n\\n I ...\n",
            "153162  fffe8f1340a79fc2  \" \\n\\n == \"\"One of the founding nations of the...\n",
            "153163  ffffce3fb183ee80  \" \\n :::Stop already. Your bullshit is not wel...\n",
            "\n",
            "[153164 rows x 2 columns]\n"
          ]
        },
        {
          "data": {
            "text/plain": [
              "0         yo bitch ja rule is more succesful then you ll...\n",
              "1                   from rfc the title is fine as it is imo\n",
              "2                          sources zawe ashton on lapland —\n",
              "3         if you have a look back at the source the info...\n",
              "4                  i don t anonymously edit articles at all\n",
              "                                ...                        \n",
              "153159    i totally agree this stuff is nothing but too ...\n",
              "153160    throw from out field to home plate does it get...\n",
              "153161    okinotorishima categories i see your changes a...\n",
              "153162    one of the founding nations of the eu germany ...\n",
              "153163    stop already your bullshit is not welcome here...\n",
              "Name: comment_text, Length: 153164, dtype: object"
            ]
          },
          "execution_count": 75,
          "metadata": {
            "tags": []
          },
          "output_type": "execute_result"
        }
      ],
      "source": [
        "test = pd.read_csv(\"test.csv\", sep=',')\n",
        "print(test)\n",
        "X_test = test[\"comment_text\"].apply(clean_text)\n",
        "\n",
        "# X_test"
      ]
    },
    {
      "cell_type": "markdown",
      "metadata": {
        "id": "lhyLr-T1MCdC"
      },
      "source": [
        "# On définit une deuxième fonction pour traiter les batchs du dataloader pour le train set  afin qu'il prennent en compte ta taille maximale des longueurs des séquences"
      ]
    },
    {
      "cell_type": "code",
      "execution_count": 82,
      "metadata": {
        "id": "EHP1iAr2__y0"
      },
      "outputs": [],
      "source": [
        "def collate_batch2(batch):\n",
        "    vectorized_seqs = []\n",
        "    list_label = []\n",
        "    for text, label in batch:\n",
        "      vectorized_seqs.append(text_pipeline(text))\n",
        "      list_label.append(label)\n",
        "      \n",
        "    seq_lengths = list(map(len, vectorized_seqs))\n",
        "    seq_lengths = list(map(lambda x: min(x, max_len), seq_lengths))\n",
        "    seq_tensor = torch.ones(size=(len(batch), max_len), dtype=torch.int64)\n",
        "    for idx, (seq, seqlen) in enumerate(zip(vectorized_seqs, seq_lengths)):\n",
        "      seq_tensor[idx, :seqlen] = torch.tensor(seq[:max_len], dtype=torch.int64)\n",
        "    \n",
        "    return seq_tensor.to(device), torch.tensor(list_label, dtype=torch.int64).to(device)"
      ]
    },
    {
      "cell_type": "code",
      "execution_count": 97,
      "metadata": {
        "colab": {
          "base_uri": "https://localhost:8080/",
          "height": 450,
          "referenced_widgets": [
            "cdc4fd95317a46439cc352e9d8892dbe",
            "3e4f8bf529ab4b0d87478932d3e96199",
            "cb7d57a55f4e4c3a8958d675d5774262",
            "3995b5859cca4f32aab3ab72ce8193b4",
            "ed9117e6c7bf488b8089d04c17fd07c2",
            "992ef4ca50254b948dccfe1a7d9f7a71",
            "960a8227afec453cb1956f57d33d4ba8",
            "9dd8d019111042f3bfe69de123329832"
          ]
        },
        "id": "5qOjB3ht6cnG",
        "outputId": "5b594335-0a3c-4c3c-81f7-16a434a4756b"
      },
      "outputs": [
        {
          "data": {
            "application/vnd.jupyter.widget-view+json": {
              "model_id": "cdc4fd95317a46439cc352e9d8892dbe",
              "version_major": 2,
              "version_minor": 0
            },
            "text/plain": [
              "HBox(children=(FloatProgress(value=1.0, bar_style='info', max=1.0), HTML(value='')))"
            ]
          },
          "metadata": {
            "tags": []
          },
          "output_type": "display_data"
        },
        {
          "name": "stdout",
          "output_type": "stream",
          "text": [
            "\n"
          ]
        },
        {
          "data": {
            "text/html": [
              "<div>\n",
              "<style scoped>\n",
              "    .dataframe tbody tr th:only-of-type {\n",
              "        vertical-align: middle;\n",
              "    }\n",
              "\n",
              "    .dataframe tbody tr th {\n",
              "        vertical-align: top;\n",
              "    }\n",
              "\n",
              "    .dataframe thead th {\n",
              "        text-align: right;\n",
              "    }\n",
              "</style>\n",
              "<table border=\"1\" class=\"dataframe\">\n",
              "  <thead>\n",
              "    <tr style=\"text-align: right;\">\n",
              "      <th></th>\n",
              "      <th>id</th>\n",
              "      <th>toxic</th>\n",
              "      <th>severe_toxic</th>\n",
              "      <th>obscene</th>\n",
              "      <th>threat</th>\n",
              "      <th>insult</th>\n",
              "      <th>identity_hate</th>\n",
              "    </tr>\n",
              "  </thead>\n",
              "  <tbody>\n",
              "    <tr>\n",
              "      <th>0</th>\n",
              "      <td>00001cee341fdb12</td>\n",
              "      <td>0.998485</td>\n",
              "      <td>3.706980e-01</td>\n",
              "      <td>0.986276</td>\n",
              "      <td>0.055662</td>\n",
              "      <td>0.929928</td>\n",
              "      <td>0.318903</td>\n",
              "    </tr>\n",
              "    <tr>\n",
              "      <th>1</th>\n",
              "      <td>0000247867823ef7</td>\n",
              "      <td>0.000203</td>\n",
              "      <td>2.368356e-07</td>\n",
              "      <td>0.000033</td>\n",
              "      <td>0.000005</td>\n",
              "      <td>0.000022</td>\n",
              "      <td>0.000008</td>\n",
              "    </tr>\n",
              "    <tr>\n",
              "      <th>2</th>\n",
              "      <td>00013b17ad220c46</td>\n",
              "      <td>0.001258</td>\n",
              "      <td>1.261858e-06</td>\n",
              "      <td>0.000141</td>\n",
              "      <td>0.000013</td>\n",
              "      <td>0.000133</td>\n",
              "      <td>0.000045</td>\n",
              "    </tr>\n",
              "    <tr>\n",
              "      <th>3</th>\n",
              "      <td>00017563c3f7919a</td>\n",
              "      <td>0.001312</td>\n",
              "      <td>3.804437e-07</td>\n",
              "      <td>0.000088</td>\n",
              "      <td>0.000006</td>\n",
              "      <td>0.000060</td>\n",
              "      <td>0.000012</td>\n",
              "    </tr>\n",
              "    <tr>\n",
              "      <th>4</th>\n",
              "      <td>00017695ad8997eb</td>\n",
              "      <td>0.004181</td>\n",
              "      <td>8.949813e-06</td>\n",
              "      <td>0.000407</td>\n",
              "      <td>0.000084</td>\n",
              "      <td>0.000338</td>\n",
              "      <td>0.000154</td>\n",
              "    </tr>\n",
              "    <tr>\n",
              "      <th>...</th>\n",
              "      <td>...</td>\n",
              "      <td>...</td>\n",
              "      <td>...</td>\n",
              "      <td>...</td>\n",
              "      <td>...</td>\n",
              "      <td>...</td>\n",
              "      <td>...</td>\n",
              "    </tr>\n",
              "    <tr>\n",
              "      <th>153159</th>\n",
              "      <td>fffcd0960ee309b5</td>\n",
              "      <td>0.000000</td>\n",
              "      <td>0.000000e+00</td>\n",
              "      <td>0.000000</td>\n",
              "      <td>0.000000</td>\n",
              "      <td>0.000000</td>\n",
              "      <td>0.000000</td>\n",
              "    </tr>\n",
              "    <tr>\n",
              "      <th>153160</th>\n",
              "      <td>fffd7a9a6eb32c16</td>\n",
              "      <td>0.000000</td>\n",
              "      <td>0.000000e+00</td>\n",
              "      <td>0.000000</td>\n",
              "      <td>0.000000</td>\n",
              "      <td>0.000000</td>\n",
              "      <td>0.000000</td>\n",
              "    </tr>\n",
              "    <tr>\n",
              "      <th>153161</th>\n",
              "      <td>fffda9e8d6fafa9e</td>\n",
              "      <td>0.000000</td>\n",
              "      <td>0.000000e+00</td>\n",
              "      <td>0.000000</td>\n",
              "      <td>0.000000</td>\n",
              "      <td>0.000000</td>\n",
              "      <td>0.000000</td>\n",
              "    </tr>\n",
              "    <tr>\n",
              "      <th>153162</th>\n",
              "      <td>fffe8f1340a79fc2</td>\n",
              "      <td>0.000000</td>\n",
              "      <td>0.000000e+00</td>\n",
              "      <td>0.000000</td>\n",
              "      <td>0.000000</td>\n",
              "      <td>0.000000</td>\n",
              "      <td>0.000000</td>\n",
              "    </tr>\n",
              "    <tr>\n",
              "      <th>153163</th>\n",
              "      <td>ffffce3fb183ee80</td>\n",
              "      <td>0.000000</td>\n",
              "      <td>0.000000e+00</td>\n",
              "      <td>0.000000</td>\n",
              "      <td>0.000000</td>\n",
              "      <td>0.000000</td>\n",
              "      <td>0.000000</td>\n",
              "    </tr>\n",
              "  </tbody>\n",
              "</table>\n",
              "<p>153164 rows × 7 columns</p>\n",
              "</div>"
            ],
            "text/plain": [
              "                      id     toxic  ...    insult  identity_hate\n",
              "0       00001cee341fdb12  0.998485  ...  0.929928       0.318903\n",
              "1       0000247867823ef7  0.000203  ...  0.000022       0.000008\n",
              "2       00013b17ad220c46  0.001258  ...  0.000133       0.000045\n",
              "3       00017563c3f7919a  0.001312  ...  0.000060       0.000012\n",
              "4       00017695ad8997eb  0.004181  ...  0.000338       0.000154\n",
              "...                  ...       ...  ...       ...            ...\n",
              "153159  fffcd0960ee309b5  0.000000  ...  0.000000       0.000000\n",
              "153160  fffd7a9a6eb32c16  0.000000  ...  0.000000       0.000000\n",
              "153161  fffda9e8d6fafa9e  0.000000  ...  0.000000       0.000000\n",
              "153162  fffe8f1340a79fc2  0.000000  ...  0.000000       0.000000\n",
              "153163  ffffce3fb183ee80  0.000000  ...  0.000000       0.000000\n",
              "\n",
              "[153164 rows x 7 columns]"
            ]
          },
          "execution_count": 97,
          "metadata": {
            "tags": []
          },
          "output_type": "execute_result"
        }
      ],
      "source": [
        "testloader = DataLoader(ToxicCommentDataset(X_test, y.iloc[:len(X_test)]), batch_size=500, shuffle=False, collate_fn=collate_batch2)\n",
        "predict_proba = np.zeros((len(testloader.dataset),num_class))\n",
        "model.eval()\n",
        "for i, (test_inp,_) in tq.tqdm(enumerate(testloader)):\n",
        "  test_out = model(test_inp)\n",
        "\n",
        "  predict_proba[i*test_inp.shape[0]:(i+1)*test_inp.shape[0],:] = test_out.detach().cpu().numpy()\n",
        "\n",
        "submit1 = pd.DataFrame(data=predict_proba,columns=train.columns[2:])\n",
        "submit1 = pd.concat((test[\"id\"],submit1),axis=1)\n",
        "submit1"
      ]
    },
    {
      "cell_type": "code",
      "execution_count": 93,
      "metadata": {
        "colab": {
          "base_uri": "https://localhost:8080/",
          "height": 450,
          "referenced_widgets": [
            "e79d6e15e6ec4a188020c3306ebeef85",
            "afc4205766d54640aa555760c302fe35",
            "728630bb34864ce4beef107b3b7c915d",
            "0df66aabbee24cfcbf3149482c8acc9e",
            "aca7eccf38c84403a84c83e14bfb0627",
            "8e4cbe3c81d64e3dbeb73fc30a61b829",
            "cc1a4a7f1ef145f999fa60ea6d10a248",
            "1b47745b2461413584a93a1954d82849"
          ]
        },
        "id": "yB1GpW7b7-bc",
        "outputId": "686c031d-09d9-4c78-99f7-c02012f0669f"
      },
      "outputs": [
        {
          "data": {
            "application/vnd.jupyter.widget-view+json": {
              "model_id": "e79d6e15e6ec4a188020c3306ebeef85",
              "version_major": 2,
              "version_minor": 0
            },
            "text/plain": [
              "HBox(children=(FloatProgress(value=1.0, bar_style='info', max=1.0), HTML(value='')))"
            ]
          },
          "metadata": {
            "tags": []
          },
          "output_type": "display_data"
        },
        {
          "name": "stdout",
          "output_type": "stream",
          "text": [
            "\n"
          ]
        },
        {
          "data": {
            "text/html": [
              "<div>\n",
              "<style scoped>\n",
              "    .dataframe tbody tr th:only-of-type {\n",
              "        vertical-align: middle;\n",
              "    }\n",
              "\n",
              "    .dataframe tbody tr th {\n",
              "        vertical-align: top;\n",
              "    }\n",
              "\n",
              "    .dataframe thead th {\n",
              "        text-align: right;\n",
              "    }\n",
              "</style>\n",
              "<table border=\"1\" class=\"dataframe\">\n",
              "  <thead>\n",
              "    <tr style=\"text-align: right;\">\n",
              "      <th></th>\n",
              "      <th>id</th>\n",
              "      <th>toxic</th>\n",
              "      <th>severe_toxic</th>\n",
              "      <th>obscene</th>\n",
              "      <th>threat</th>\n",
              "      <th>insult</th>\n",
              "      <th>identity_hate</th>\n",
              "    </tr>\n",
              "  </thead>\n",
              "  <tbody>\n",
              "    <tr>\n",
              "      <th>0</th>\n",
              "      <td>00001cee341fdb12</td>\n",
              "      <td>0.999314</td>\n",
              "      <td>0.240307</td>\n",
              "      <td>0.992158</td>\n",
              "      <td>0.062269</td>\n",
              "      <td>0.976407</td>\n",
              "      <td>0.109066</td>\n",
              "    </tr>\n",
              "    <tr>\n",
              "      <th>1</th>\n",
              "      <td>0000247867823ef7</td>\n",
              "      <td>0.000485</td>\n",
              "      <td>0.000011</td>\n",
              "      <td>0.000082</td>\n",
              "      <td>0.000014</td>\n",
              "      <td>0.000121</td>\n",
              "      <td>0.000067</td>\n",
              "    </tr>\n",
              "    <tr>\n",
              "      <th>2</th>\n",
              "      <td>00013b17ad220c46</td>\n",
              "      <td>0.000318</td>\n",
              "      <td>0.000039</td>\n",
              "      <td>0.000095</td>\n",
              "      <td>0.000031</td>\n",
              "      <td>0.000106</td>\n",
              "      <td>0.000074</td>\n",
              "    </tr>\n",
              "    <tr>\n",
              "      <th>3</th>\n",
              "      <td>00017563c3f7919a</td>\n",
              "      <td>0.000181</td>\n",
              "      <td>0.000011</td>\n",
              "      <td>0.000031</td>\n",
              "      <td>0.000012</td>\n",
              "      <td>0.000077</td>\n",
              "      <td>0.000033</td>\n",
              "    </tr>\n",
              "    <tr>\n",
              "      <th>4</th>\n",
              "      <td>00017695ad8997eb</td>\n",
              "      <td>0.000764</td>\n",
              "      <td>0.000058</td>\n",
              "      <td>0.000328</td>\n",
              "      <td>0.000025</td>\n",
              "      <td>0.000304</td>\n",
              "      <td>0.000125</td>\n",
              "    </tr>\n",
              "    <tr>\n",
              "      <th>...</th>\n",
              "      <td>...</td>\n",
              "      <td>...</td>\n",
              "      <td>...</td>\n",
              "      <td>...</td>\n",
              "      <td>...</td>\n",
              "      <td>...</td>\n",
              "      <td>...</td>\n",
              "    </tr>\n",
              "    <tr>\n",
              "      <th>153159</th>\n",
              "      <td>fffcd0960ee309b5</td>\n",
              "      <td>0.000000</td>\n",
              "      <td>0.000000</td>\n",
              "      <td>0.000000</td>\n",
              "      <td>0.000000</td>\n",
              "      <td>0.000000</td>\n",
              "      <td>0.000000</td>\n",
              "    </tr>\n",
              "    <tr>\n",
              "      <th>153160</th>\n",
              "      <td>fffd7a9a6eb32c16</td>\n",
              "      <td>0.000000</td>\n",
              "      <td>0.000000</td>\n",
              "      <td>0.000000</td>\n",
              "      <td>0.000000</td>\n",
              "      <td>0.000000</td>\n",
              "      <td>0.000000</td>\n",
              "    </tr>\n",
              "    <tr>\n",
              "      <th>153161</th>\n",
              "      <td>fffda9e8d6fafa9e</td>\n",
              "      <td>0.000000</td>\n",
              "      <td>0.000000</td>\n",
              "      <td>0.000000</td>\n",
              "      <td>0.000000</td>\n",
              "      <td>0.000000</td>\n",
              "      <td>0.000000</td>\n",
              "    </tr>\n",
              "    <tr>\n",
              "      <th>153162</th>\n",
              "      <td>fffe8f1340a79fc2</td>\n",
              "      <td>0.000000</td>\n",
              "      <td>0.000000</td>\n",
              "      <td>0.000000</td>\n",
              "      <td>0.000000</td>\n",
              "      <td>0.000000</td>\n",
              "      <td>0.000000</td>\n",
              "    </tr>\n",
              "    <tr>\n",
              "      <th>153163</th>\n",
              "      <td>ffffce3fb183ee80</td>\n",
              "      <td>0.000000</td>\n",
              "      <td>0.000000</td>\n",
              "      <td>0.000000</td>\n",
              "      <td>0.000000</td>\n",
              "      <td>0.000000</td>\n",
              "      <td>0.000000</td>\n",
              "    </tr>\n",
              "  </tbody>\n",
              "</table>\n",
              "<p>153164 rows × 7 columns</p>\n",
              "</div>"
            ],
            "text/plain": [
              "                      id     toxic  ...    insult  identity_hate\n",
              "0       00001cee341fdb12  0.999314  ...  0.976407       0.109066\n",
              "1       0000247867823ef7  0.000485  ...  0.000121       0.000067\n",
              "2       00013b17ad220c46  0.000318  ...  0.000106       0.000074\n",
              "3       00017563c3f7919a  0.000181  ...  0.000077       0.000033\n",
              "4       00017695ad8997eb  0.000764  ...  0.000304       0.000125\n",
              "...                  ...       ...  ...       ...            ...\n",
              "153159  fffcd0960ee309b5  0.000000  ...  0.000000       0.000000\n",
              "153160  fffd7a9a6eb32c16  0.000000  ...  0.000000       0.000000\n",
              "153161  fffda9e8d6fafa9e  0.000000  ...  0.000000       0.000000\n",
              "153162  fffe8f1340a79fc2  0.000000  ...  0.000000       0.000000\n",
              "153163  ffffce3fb183ee80  0.000000  ...  0.000000       0.000000\n",
              "\n",
              "[153164 rows x 7 columns]"
            ]
          },
          "execution_count": 93,
          "metadata": {
            "tags": []
          },
          "output_type": "execute_result"
        }
      ],
      "source": [
        "\n",
        "predict_proba2 = np.zeros((len(testloader.dataset),num_class))\n",
        "model2.eval()\n",
        "for i, (test_inp, _) in tq.tqdm(enumerate(testloader)):\n",
        "                      \n",
        "  test_out = model2(test_inp)\n",
        "\n",
        "  predict_proba[i*test_inp.shape[0]:(i+1)*test_inp.shape[0],:] = test_out.detach().cpu().numpy()\n",
        "submit2 = pd.DataFrame(data=predict_proba,columns=train.columns[2:])\n",
        "submit2 = pd.concat((test[\"id\"],submit2),axis=1)\n",
        "submit2"
      ]
    },
    {
      "cell_type": "code",
      "execution_count": 98,
      "metadata": {
        "id": "QlPttnnrDfeE"
      },
      "outputs": [],
      "source": [
        "submit1.to_csv(\"submit3.csv\", index=False)\n",
        "submit2.to_csv(\"submit2.csv\", index=False)"
      ]
    }
  ],
  "metadata": {
    "accelerator": "GPU",
    "colab": {
      "collapsed_sections": [],
      "include_colab_link": true,
      "name": "NLP_Project.ipynb",
      "provenance": []
    },
    "kernelspec": {
      "display_name": "Python 3",
      "name": "python3"
    },
    "language_info": {
      "name": "python"
    },
    "widgets": {
      "application/vnd.jupyter.widget-state+json": {
        "0192ea6e97fe476292bf5a456b87c885": {
          "model_module": "@jupyter-widgets/base",
          "model_name": "LayoutModel",
          "state": {
            "_model_module": "@jupyter-widgets/base",
            "_model_module_version": "1.2.0",
            "_model_name": "LayoutModel",
            "_view_count": null,
            "_view_module": "@jupyter-widgets/base",
            "_view_module_version": "1.2.0",
            "_view_name": "LayoutView",
            "align_content": null,
            "align_items": null,
            "align_self": null,
            "border": null,
            "bottom": null,
            "display": null,
            "flex": null,
            "flex_flow": null,
            "grid_area": null,
            "grid_auto_columns": null,
            "grid_auto_flow": null,
            "grid_auto_rows": null,
            "grid_column": null,
            "grid_gap": null,
            "grid_row": null,
            "grid_template_areas": null,
            "grid_template_columns": null,
            "grid_template_rows": null,
            "height": null,
            "justify_content": null,
            "justify_items": null,
            "left": null,
            "margin": null,
            "max_height": null,
            "max_width": null,
            "min_height": null,
            "min_width": null,
            "object_fit": null,
            "object_position": null,
            "order": null,
            "overflow": null,
            "overflow_x": null,
            "overflow_y": null,
            "padding": null,
            "right": null,
            "top": null,
            "visibility": null,
            "width": null
          }
        },
        "0378377de14346aabc33ab8821daa30a": {
          "model_module": "@jupyter-widgets/controls",
          "model_name": "FloatProgressModel",
          "state": {
            "_dom_classes": [],
            "_model_module": "@jupyter-widgets/controls",
            "_model_module_version": "1.5.0",
            "_model_name": "FloatProgressModel",
            "_view_count": null,
            "_view_module": "@jupyter-widgets/controls",
            "_view_module_version": "1.5.0",
            "_view_name": "ProgressView",
            "bar_style": "success",
            "description": "",
            "description_tooltip": null,
            "layout": "IPY_MODEL_9fa4bd3d2e8b4483a6b5e71b0220de2b",
            "max": 1,
            "min": 0,
            "orientation": "horizontal",
            "style": "IPY_MODEL_59a69122cda34bfc84d8ddacba9a69c5",
            "value": 1
          }
        },
        "0613842b13a14fe6a17b079f4680a90c": {
          "model_module": "@jupyter-widgets/base",
          "model_name": "LayoutModel",
          "state": {
            "_model_module": "@jupyter-widgets/base",
            "_model_module_version": "1.2.0",
            "_model_name": "LayoutModel",
            "_view_count": null,
            "_view_module": "@jupyter-widgets/base",
            "_view_module_version": "1.2.0",
            "_view_name": "LayoutView",
            "align_content": null,
            "align_items": null,
            "align_self": null,
            "border": null,
            "bottom": null,
            "display": null,
            "flex": null,
            "flex_flow": null,
            "grid_area": null,
            "grid_auto_columns": null,
            "grid_auto_flow": null,
            "grid_auto_rows": null,
            "grid_column": null,
            "grid_gap": null,
            "grid_row": null,
            "grid_template_areas": null,
            "grid_template_columns": null,
            "grid_template_rows": null,
            "height": null,
            "justify_content": null,
            "justify_items": null,
            "left": null,
            "margin": null,
            "max_height": null,
            "max_width": null,
            "min_height": null,
            "min_width": null,
            "object_fit": null,
            "object_position": null,
            "order": null,
            "overflow": null,
            "overflow_x": null,
            "overflow_y": null,
            "padding": null,
            "right": null,
            "top": null,
            "visibility": null,
            "width": null
          }
        },
        "0863dd4b637849429e82dac9615f6168": {
          "model_module": "@jupyter-widgets/controls",
          "model_name": "ProgressStyleModel",
          "state": {
            "_model_module": "@jupyter-widgets/controls",
            "_model_module_version": "1.5.0",
            "_model_name": "ProgressStyleModel",
            "_view_count": null,
            "_view_module": "@jupyter-widgets/base",
            "_view_module_version": "1.2.0",
            "_view_name": "StyleView",
            "bar_color": null,
            "description_width": "initial"
          }
        },
        "08c1722c8a2643f6b9c7a601aad6efe7": {
          "model_module": "@jupyter-widgets/base",
          "model_name": "LayoutModel",
          "state": {
            "_model_module": "@jupyter-widgets/base",
            "_model_module_version": "1.2.0",
            "_model_name": "LayoutModel",
            "_view_count": null,
            "_view_module": "@jupyter-widgets/base",
            "_view_module_version": "1.2.0",
            "_view_name": "LayoutView",
            "align_content": null,
            "align_items": null,
            "align_self": null,
            "border": null,
            "bottom": null,
            "display": null,
            "flex": null,
            "flex_flow": null,
            "grid_area": null,
            "grid_auto_columns": null,
            "grid_auto_flow": null,
            "grid_auto_rows": null,
            "grid_column": null,
            "grid_gap": null,
            "grid_row": null,
            "grid_template_areas": null,
            "grid_template_columns": null,
            "grid_template_rows": null,
            "height": null,
            "justify_content": null,
            "justify_items": null,
            "left": null,
            "margin": null,
            "max_height": null,
            "max_width": null,
            "min_height": null,
            "min_width": null,
            "object_fit": null,
            "object_position": null,
            "order": null,
            "overflow": null,
            "overflow_x": null,
            "overflow_y": null,
            "padding": null,
            "right": null,
            "top": null,
            "visibility": null,
            "width": null
          }
        },
        "0df66aabbee24cfcbf3149482c8acc9e": {
          "model_module": "@jupyter-widgets/controls",
          "model_name": "HTMLModel",
          "state": {
            "_dom_classes": [],
            "_model_module": "@jupyter-widgets/controls",
            "_model_module_version": "1.5.0",
            "_model_name": "HTMLModel",
            "_view_count": null,
            "_view_module": "@jupyter-widgets/controls",
            "_view_module_version": "1.5.0",
            "_view_name": "HTMLView",
            "description": "",
            "description_tooltip": null,
            "layout": "IPY_MODEL_1b47745b2461413584a93a1954d82849",
            "placeholder": "​",
            "style": "IPY_MODEL_cc1a4a7f1ef145f999fa60ea6d10a248",
            "value": " 307/? [16:44&lt;00:00,  3.27s/it]"
          }
        },
        "0e1fc519f2a04c66894af364eacef405": {
          "model_module": "@jupyter-widgets/controls",
          "model_name": "DescriptionStyleModel",
          "state": {
            "_model_module": "@jupyter-widgets/controls",
            "_model_module_version": "1.5.0",
            "_model_name": "DescriptionStyleModel",
            "_view_count": null,
            "_view_module": "@jupyter-widgets/base",
            "_view_module_version": "1.2.0",
            "_view_name": "StyleView",
            "description_width": ""
          }
        },
        "0fdaacae47934d1bba77e7627ef8ac76": {
          "model_module": "@jupyter-widgets/controls",
          "model_name": "FloatProgressModel",
          "state": {
            "_dom_classes": [],
            "_model_module": "@jupyter-widgets/controls",
            "_model_module_version": "1.5.0",
            "_model_name": "FloatProgressModel",
            "_view_count": null,
            "_view_module": "@jupyter-widgets/controls",
            "_view_module_version": "1.5.0",
            "_view_name": "ProgressView",
            "bar_style": "success",
            "description": "",
            "description_tooltip": null,
            "layout": "IPY_MODEL_2188921454e94430ac76d2d1cbb67ac3",
            "max": 1,
            "min": 0,
            "orientation": "horizontal",
            "style": "IPY_MODEL_6650986b2ccf42d98dda103564138210",
            "value": 1
          }
        },
        "142391967c0c47249ec7c0455f0ce9c7": {
          "model_module": "@jupyter-widgets/controls",
          "model_name": "FloatProgressModel",
          "state": {
            "_dom_classes": [],
            "_model_module": "@jupyter-widgets/controls",
            "_model_module_version": "1.5.0",
            "_model_name": "FloatProgressModel",
            "_view_count": null,
            "_view_module": "@jupyter-widgets/controls",
            "_view_module_version": "1.5.0",
            "_view_name": "ProgressView",
            "bar_style": "success",
            "description": "",
            "description_tooltip": null,
            "layout": "IPY_MODEL_6593d67539a640c2b5ee391f6fe8d313",
            "max": 1,
            "min": 0,
            "orientation": "horizontal",
            "style": "IPY_MODEL_0863dd4b637849429e82dac9615f6168",
            "value": 1
          }
        },
        "15059d589f984cc8b768456a072184b6": {
          "model_module": "@jupyter-widgets/controls",
          "model_name": "DescriptionStyleModel",
          "state": {
            "_model_module": "@jupyter-widgets/controls",
            "_model_module_version": "1.5.0",
            "_model_name": "DescriptionStyleModel",
            "_view_count": null,
            "_view_module": "@jupyter-widgets/base",
            "_view_module_version": "1.2.0",
            "_view_name": "StyleView",
            "description_width": ""
          }
        },
        "1b47745b2461413584a93a1954d82849": {
          "model_module": "@jupyter-widgets/base",
          "model_name": "LayoutModel",
          "state": {
            "_model_module": "@jupyter-widgets/base",
            "_model_module_version": "1.2.0",
            "_model_name": "LayoutModel",
            "_view_count": null,
            "_view_module": "@jupyter-widgets/base",
            "_view_module_version": "1.2.0",
            "_view_name": "LayoutView",
            "align_content": null,
            "align_items": null,
            "align_self": null,
            "border": null,
            "bottom": null,
            "display": null,
            "flex": null,
            "flex_flow": null,
            "grid_area": null,
            "grid_auto_columns": null,
            "grid_auto_flow": null,
            "grid_auto_rows": null,
            "grid_column": null,
            "grid_gap": null,
            "grid_row": null,
            "grid_template_areas": null,
            "grid_template_columns": null,
            "grid_template_rows": null,
            "height": null,
            "justify_content": null,
            "justify_items": null,
            "left": null,
            "margin": null,
            "max_height": null,
            "max_width": null,
            "min_height": null,
            "min_width": null,
            "object_fit": null,
            "object_position": null,
            "order": null,
            "overflow": null,
            "overflow_x": null,
            "overflow_y": null,
            "padding": null,
            "right": null,
            "top": null,
            "visibility": null,
            "width": null
          }
        },
        "2188921454e94430ac76d2d1cbb67ac3": {
          "model_module": "@jupyter-widgets/base",
          "model_name": "LayoutModel",
          "state": {
            "_model_module": "@jupyter-widgets/base",
            "_model_module_version": "1.2.0",
            "_model_name": "LayoutModel",
            "_view_count": null,
            "_view_module": "@jupyter-widgets/base",
            "_view_module_version": "1.2.0",
            "_view_name": "LayoutView",
            "align_content": null,
            "align_items": null,
            "align_self": null,
            "border": null,
            "bottom": null,
            "display": null,
            "flex": null,
            "flex_flow": null,
            "grid_area": null,
            "grid_auto_columns": null,
            "grid_auto_flow": null,
            "grid_auto_rows": null,
            "grid_column": null,
            "grid_gap": null,
            "grid_row": null,
            "grid_template_areas": null,
            "grid_template_columns": null,
            "grid_template_rows": null,
            "height": null,
            "justify_content": null,
            "justify_items": null,
            "left": null,
            "margin": null,
            "max_height": null,
            "max_width": null,
            "min_height": null,
            "min_width": null,
            "object_fit": null,
            "object_position": null,
            "order": null,
            "overflow": null,
            "overflow_x": null,
            "overflow_y": null,
            "padding": null,
            "right": null,
            "top": null,
            "visibility": null,
            "width": null
          }
        },
        "22aa21b3f87f4c8a83d7d261a920688b": {
          "model_module": "@jupyter-widgets/base",
          "model_name": "LayoutModel",
          "state": {
            "_model_module": "@jupyter-widgets/base",
            "_model_module_version": "1.2.0",
            "_model_name": "LayoutModel",
            "_view_count": null,
            "_view_module": "@jupyter-widgets/base",
            "_view_module_version": "1.2.0",
            "_view_name": "LayoutView",
            "align_content": null,
            "align_items": null,
            "align_self": null,
            "border": null,
            "bottom": null,
            "display": null,
            "flex": null,
            "flex_flow": null,
            "grid_area": null,
            "grid_auto_columns": null,
            "grid_auto_flow": null,
            "grid_auto_rows": null,
            "grid_column": null,
            "grid_gap": null,
            "grid_row": null,
            "grid_template_areas": null,
            "grid_template_columns": null,
            "grid_template_rows": null,
            "height": null,
            "justify_content": null,
            "justify_items": null,
            "left": null,
            "margin": null,
            "max_height": null,
            "max_width": null,
            "min_height": null,
            "min_width": null,
            "object_fit": null,
            "object_position": null,
            "order": null,
            "overflow": null,
            "overflow_x": null,
            "overflow_y": null,
            "padding": null,
            "right": null,
            "top": null,
            "visibility": null,
            "width": null
          }
        },
        "2d4e0af812794e34ab8a99f858c01ec5": {
          "model_module": "@jupyter-widgets/controls",
          "model_name": "HTMLModel",
          "state": {
            "_dom_classes": [],
            "_model_module": "@jupyter-widgets/controls",
            "_model_module_version": "1.5.0",
            "_model_name": "HTMLModel",
            "_view_count": null,
            "_view_module": "@jupyter-widgets/controls",
            "_view_module_version": "1.5.0",
            "_view_name": "HTMLView",
            "description": "",
            "description_tooltip": null,
            "layout": "IPY_MODEL_22aa21b3f87f4c8a83d7d261a920688b",
            "placeholder": "​",
            "style": "IPY_MODEL_5ac43f062056433d9c1f118afa94d256",
            "value": " 2554/? [09:24&lt;00:00,  4.53it/s]"
          }
        },
        "35cda55e548f41b3863fd702abe0ee83": {
          "model_module": "@jupyter-widgets/base",
          "model_name": "LayoutModel",
          "state": {
            "_model_module": "@jupyter-widgets/base",
            "_model_module_version": "1.2.0",
            "_model_name": "LayoutModel",
            "_view_count": null,
            "_view_module": "@jupyter-widgets/base",
            "_view_module_version": "1.2.0",
            "_view_name": "LayoutView",
            "align_content": null,
            "align_items": null,
            "align_self": null,
            "border": null,
            "bottom": null,
            "display": null,
            "flex": null,
            "flex_flow": null,
            "grid_area": null,
            "grid_auto_columns": null,
            "grid_auto_flow": null,
            "grid_auto_rows": null,
            "grid_column": null,
            "grid_gap": null,
            "grid_row": null,
            "grid_template_areas": null,
            "grid_template_columns": null,
            "grid_template_rows": null,
            "height": null,
            "justify_content": null,
            "justify_items": null,
            "left": null,
            "margin": null,
            "max_height": null,
            "max_width": null,
            "min_height": null,
            "min_width": null,
            "object_fit": null,
            "object_position": null,
            "order": null,
            "overflow": null,
            "overflow_x": null,
            "overflow_y": null,
            "padding": null,
            "right": null,
            "top": null,
            "visibility": null,
            "width": null
          }
        },
        "3995b5859cca4f32aab3ab72ce8193b4": {
          "model_module": "@jupyter-widgets/controls",
          "model_name": "HTMLModel",
          "state": {
            "_dom_classes": [],
            "_model_module": "@jupyter-widgets/controls",
            "_model_module_version": "1.5.0",
            "_model_name": "HTMLModel",
            "_view_count": null,
            "_view_module": "@jupyter-widgets/controls",
            "_view_module_version": "1.5.0",
            "_view_name": "HTMLView",
            "description": "",
            "description_tooltip": null,
            "layout": "IPY_MODEL_9dd8d019111042f3bfe69de123329832",
            "placeholder": "​",
            "style": "IPY_MODEL_960a8227afec453cb1956f57d33d4ba8",
            "value": " 307/? [01:01&lt;00:00,  5.03it/s]"
          }
        },
        "39bfae9dcb8b427eb31313e227d945f1": {
          "model_module": "@jupyter-widgets/base",
          "model_name": "LayoutModel",
          "state": {
            "_model_module": "@jupyter-widgets/base",
            "_model_module_version": "1.2.0",
            "_model_name": "LayoutModel",
            "_view_count": null,
            "_view_module": "@jupyter-widgets/base",
            "_view_module_version": "1.2.0",
            "_view_name": "LayoutView",
            "align_content": null,
            "align_items": null,
            "align_self": null,
            "border": null,
            "bottom": null,
            "display": null,
            "flex": null,
            "flex_flow": null,
            "grid_area": null,
            "grid_auto_columns": null,
            "grid_auto_flow": null,
            "grid_auto_rows": null,
            "grid_column": null,
            "grid_gap": null,
            "grid_row": null,
            "grid_template_areas": null,
            "grid_template_columns": null,
            "grid_template_rows": null,
            "height": null,
            "justify_content": null,
            "justify_items": null,
            "left": null,
            "margin": null,
            "max_height": null,
            "max_width": null,
            "min_height": null,
            "min_width": null,
            "object_fit": null,
            "object_position": null,
            "order": null,
            "overflow": null,
            "overflow_x": null,
            "overflow_y": null,
            "padding": null,
            "right": null,
            "top": null,
            "visibility": null,
            "width": null
          }
        },
        "3c60819650744b94b1db0aca251b2aa0": {
          "model_module": "@jupyter-widgets/controls",
          "model_name": "HBoxModel",
          "state": {
            "_dom_classes": [],
            "_model_module": "@jupyter-widgets/controls",
            "_model_module_version": "1.5.0",
            "_model_name": "HBoxModel",
            "_view_count": null,
            "_view_module": "@jupyter-widgets/controls",
            "_view_module_version": "1.5.0",
            "_view_name": "HBoxView",
            "box_style": "",
            "children": [
              "IPY_MODEL_8e9f722f28274ec0a9027d8784be7e01",
              "IPY_MODEL_ace4e6f123c24848a1f2bdfa2c37fd8f"
            ],
            "layout": "IPY_MODEL_dcf1f72b0256463680652d6934bb5e89"
          }
        },
        "3e4f8bf529ab4b0d87478932d3e96199": {
          "model_module": "@jupyter-widgets/base",
          "model_name": "LayoutModel",
          "state": {
            "_model_module": "@jupyter-widgets/base",
            "_model_module_version": "1.2.0",
            "_model_name": "LayoutModel",
            "_view_count": null,
            "_view_module": "@jupyter-widgets/base",
            "_view_module_version": "1.2.0",
            "_view_name": "LayoutView",
            "align_content": null,
            "align_items": null,
            "align_self": null,
            "border": null,
            "bottom": null,
            "display": null,
            "flex": null,
            "flex_flow": null,
            "grid_area": null,
            "grid_auto_columns": null,
            "grid_auto_flow": null,
            "grid_auto_rows": null,
            "grid_column": null,
            "grid_gap": null,
            "grid_row": null,
            "grid_template_areas": null,
            "grid_template_columns": null,
            "grid_template_rows": null,
            "height": null,
            "justify_content": null,
            "justify_items": null,
            "left": null,
            "margin": null,
            "max_height": null,
            "max_width": null,
            "min_height": null,
            "min_width": null,
            "object_fit": null,
            "object_position": null,
            "order": null,
            "overflow": null,
            "overflow_x": null,
            "overflow_y": null,
            "padding": null,
            "right": null,
            "top": null,
            "visibility": null,
            "width": null
          }
        },
        "44d577e3e0cd41bf94d8f5e2443bfe37": {
          "model_module": "@jupyter-widgets/controls",
          "model_name": "HBoxModel",
          "state": {
            "_dom_classes": [],
            "_model_module": "@jupyter-widgets/controls",
            "_model_module_version": "1.5.0",
            "_model_name": "HBoxModel",
            "_view_count": null,
            "_view_module": "@jupyter-widgets/controls",
            "_view_module_version": "1.5.0",
            "_view_name": "HBoxView",
            "box_style": "",
            "children": [
              "IPY_MODEL_9b6c87b7934c430e923bf1d28089fd56",
              "IPY_MODEL_45e1e8b6b428484fb7fe6d55c659316d"
            ],
            "layout": "IPY_MODEL_733095d7a0ff4ae0930fe0894d9793af"
          }
        },
        "45e1e8b6b428484fb7fe6d55c659316d": {
          "model_module": "@jupyter-widgets/controls",
          "model_name": "HTMLModel",
          "state": {
            "_dom_classes": [],
            "_model_module": "@jupyter-widgets/controls",
            "_model_module_version": "1.5.0",
            "_model_name": "HTMLModel",
            "_view_count": null,
            "_view_module": "@jupyter-widgets/controls",
            "_view_module_version": "1.5.0",
            "_view_name": "HTMLView",
            "description": "",
            "description_tooltip": null,
            "layout": "IPY_MODEL_8d88bf60c68042dab95159a2742d42e8",
            "placeholder": "​",
            "style": "IPY_MODEL_15059d589f984cc8b768456a072184b6",
            "value": " 2554/? [08:13&lt;00:00,  5.17it/s]"
          }
        },
        "50d219f492ae44528941db9e200eb685": {
          "model_module": "@jupyter-widgets/controls",
          "model_name": "HTMLModel",
          "state": {
            "_dom_classes": [],
            "_model_module": "@jupyter-widgets/controls",
            "_model_module_version": "1.5.0",
            "_model_name": "HTMLModel",
            "_view_count": null,
            "_view_module": "@jupyter-widgets/controls",
            "_view_module_version": "1.5.0",
            "_view_name": "HTMLView",
            "description": "",
            "description_tooltip": null,
            "layout": "IPY_MODEL_e0ad48738dd8493fa6427bcd9c9bec1a",
            "placeholder": "​",
            "style": "IPY_MODEL_b982919063294e05ac51b39270cd1d58",
            "value": " 2554/? [08:11&lt;00:00,  5.19it/s]"
          }
        },
        "59a69122cda34bfc84d8ddacba9a69c5": {
          "model_module": "@jupyter-widgets/controls",
          "model_name": "ProgressStyleModel",
          "state": {
            "_model_module": "@jupyter-widgets/controls",
            "_model_module_version": "1.5.0",
            "_model_name": "ProgressStyleModel",
            "_view_count": null,
            "_view_module": "@jupyter-widgets/base",
            "_view_module_version": "1.2.0",
            "_view_name": "StyleView",
            "bar_color": null,
            "description_width": "initial"
          }
        },
        "5ac43f062056433d9c1f118afa94d256": {
          "model_module": "@jupyter-widgets/controls",
          "model_name": "DescriptionStyleModel",
          "state": {
            "_model_module": "@jupyter-widgets/controls",
            "_model_module_version": "1.5.0",
            "_model_name": "DescriptionStyleModel",
            "_view_count": null,
            "_view_module": "@jupyter-widgets/base",
            "_view_module_version": "1.2.0",
            "_view_name": "StyleView",
            "description_width": ""
          }
        },
        "61e4bc8623f54af9afffeb0f9572a5b3": {
          "model_module": "@jupyter-widgets/controls",
          "model_name": "ProgressStyleModel",
          "state": {
            "_model_module": "@jupyter-widgets/controls",
            "_model_module_version": "1.5.0",
            "_model_name": "ProgressStyleModel",
            "_view_count": null,
            "_view_module": "@jupyter-widgets/base",
            "_view_module_version": "1.2.0",
            "_view_name": "StyleView",
            "bar_color": null,
            "description_width": "initial"
          }
        },
        "6593d67539a640c2b5ee391f6fe8d313": {
          "model_module": "@jupyter-widgets/base",
          "model_name": "LayoutModel",
          "state": {
            "_model_module": "@jupyter-widgets/base",
            "_model_module_version": "1.2.0",
            "_model_name": "LayoutModel",
            "_view_count": null,
            "_view_module": "@jupyter-widgets/base",
            "_view_module_version": "1.2.0",
            "_view_name": "LayoutView",
            "align_content": null,
            "align_items": null,
            "align_self": null,
            "border": null,
            "bottom": null,
            "display": null,
            "flex": null,
            "flex_flow": null,
            "grid_area": null,
            "grid_auto_columns": null,
            "grid_auto_flow": null,
            "grid_auto_rows": null,
            "grid_column": null,
            "grid_gap": null,
            "grid_row": null,
            "grid_template_areas": null,
            "grid_template_columns": null,
            "grid_template_rows": null,
            "height": null,
            "justify_content": null,
            "justify_items": null,
            "left": null,
            "margin": null,
            "max_height": null,
            "max_width": null,
            "min_height": null,
            "min_width": null,
            "object_fit": null,
            "object_position": null,
            "order": null,
            "overflow": null,
            "overflow_x": null,
            "overflow_y": null,
            "padding": null,
            "right": null,
            "top": null,
            "visibility": null,
            "width": null
          }
        },
        "6650986b2ccf42d98dda103564138210": {
          "model_module": "@jupyter-widgets/controls",
          "model_name": "ProgressStyleModel",
          "state": {
            "_model_module": "@jupyter-widgets/controls",
            "_model_module_version": "1.5.0",
            "_model_name": "ProgressStyleModel",
            "_view_count": null,
            "_view_module": "@jupyter-widgets/base",
            "_view_module_version": "1.2.0",
            "_view_name": "StyleView",
            "bar_color": null,
            "description_width": "initial"
          }
        },
        "7167082315d345e4a159502a10107c40": {
          "model_module": "@jupyter-widgets/base",
          "model_name": "LayoutModel",
          "state": {
            "_model_module": "@jupyter-widgets/base",
            "_model_module_version": "1.2.0",
            "_model_name": "LayoutModel",
            "_view_count": null,
            "_view_module": "@jupyter-widgets/base",
            "_view_module_version": "1.2.0",
            "_view_name": "LayoutView",
            "align_content": null,
            "align_items": null,
            "align_self": null,
            "border": null,
            "bottom": null,
            "display": null,
            "flex": null,
            "flex_flow": null,
            "grid_area": null,
            "grid_auto_columns": null,
            "grid_auto_flow": null,
            "grid_auto_rows": null,
            "grid_column": null,
            "grid_gap": null,
            "grid_row": null,
            "grid_template_areas": null,
            "grid_template_columns": null,
            "grid_template_rows": null,
            "height": null,
            "justify_content": null,
            "justify_items": null,
            "left": null,
            "margin": null,
            "max_height": null,
            "max_width": null,
            "min_height": null,
            "min_width": null,
            "object_fit": null,
            "object_position": null,
            "order": null,
            "overflow": null,
            "overflow_x": null,
            "overflow_y": null,
            "padding": null,
            "right": null,
            "top": null,
            "visibility": null,
            "width": null
          }
        },
        "728630bb34864ce4beef107b3b7c915d": {
          "model_module": "@jupyter-widgets/controls",
          "model_name": "FloatProgressModel",
          "state": {
            "_dom_classes": [],
            "_model_module": "@jupyter-widgets/controls",
            "_model_module_version": "1.5.0",
            "_model_name": "FloatProgressModel",
            "_view_count": null,
            "_view_module": "@jupyter-widgets/controls",
            "_view_module_version": "1.5.0",
            "_view_name": "ProgressView",
            "bar_style": "success",
            "description": "",
            "description_tooltip": null,
            "layout": "IPY_MODEL_8e4cbe3c81d64e3dbeb73fc30a61b829",
            "max": 1,
            "min": 0,
            "orientation": "horizontal",
            "style": "IPY_MODEL_aca7eccf38c84403a84c83e14bfb0627",
            "value": 1
          }
        },
        "733095d7a0ff4ae0930fe0894d9793af": {
          "model_module": "@jupyter-widgets/base",
          "model_name": "LayoutModel",
          "state": {
            "_model_module": "@jupyter-widgets/base",
            "_model_module_version": "1.2.0",
            "_model_name": "LayoutModel",
            "_view_count": null,
            "_view_module": "@jupyter-widgets/base",
            "_view_module_version": "1.2.0",
            "_view_name": "LayoutView",
            "align_content": null,
            "align_items": null,
            "align_self": null,
            "border": null,
            "bottom": null,
            "display": null,
            "flex": null,
            "flex_flow": null,
            "grid_area": null,
            "grid_auto_columns": null,
            "grid_auto_flow": null,
            "grid_auto_rows": null,
            "grid_column": null,
            "grid_gap": null,
            "grid_row": null,
            "grid_template_areas": null,
            "grid_template_columns": null,
            "grid_template_rows": null,
            "height": null,
            "justify_content": null,
            "justify_items": null,
            "left": null,
            "margin": null,
            "max_height": null,
            "max_width": null,
            "min_height": null,
            "min_width": null,
            "object_fit": null,
            "object_position": null,
            "order": null,
            "overflow": null,
            "overflow_x": null,
            "overflow_y": null,
            "padding": null,
            "right": null,
            "top": null,
            "visibility": null,
            "width": null
          }
        },
        "83a25cf1d213404d8d5d70bfa7855f72": {
          "model_module": "@jupyter-widgets/base",
          "model_name": "LayoutModel",
          "state": {
            "_model_module": "@jupyter-widgets/base",
            "_model_module_version": "1.2.0",
            "_model_name": "LayoutModel",
            "_view_count": null,
            "_view_module": "@jupyter-widgets/base",
            "_view_module_version": "1.2.0",
            "_view_name": "LayoutView",
            "align_content": null,
            "align_items": null,
            "align_self": null,
            "border": null,
            "bottom": null,
            "display": null,
            "flex": null,
            "flex_flow": null,
            "grid_area": null,
            "grid_auto_columns": null,
            "grid_auto_flow": null,
            "grid_auto_rows": null,
            "grid_column": null,
            "grid_gap": null,
            "grid_row": null,
            "grid_template_areas": null,
            "grid_template_columns": null,
            "grid_template_rows": null,
            "height": null,
            "justify_content": null,
            "justify_items": null,
            "left": null,
            "margin": null,
            "max_height": null,
            "max_width": null,
            "min_height": null,
            "min_width": null,
            "object_fit": null,
            "object_position": null,
            "order": null,
            "overflow": null,
            "overflow_x": null,
            "overflow_y": null,
            "padding": null,
            "right": null,
            "top": null,
            "visibility": null,
            "width": null
          }
        },
        "8613d3e418c84b2f80b6b02f6218bc0b": {
          "model_module": "@jupyter-widgets/controls",
          "model_name": "HTMLModel",
          "state": {
            "_dom_classes": [],
            "_model_module": "@jupyter-widgets/controls",
            "_model_module_version": "1.5.0",
            "_model_name": "HTMLModel",
            "_view_count": null,
            "_view_module": "@jupyter-widgets/controls",
            "_view_module_version": "1.5.0",
            "_view_name": "HTMLView",
            "description": "",
            "description_tooltip": null,
            "layout": "IPY_MODEL_83a25cf1d213404d8d5d70bfa7855f72",
            "placeholder": "​",
            "style": "IPY_MODEL_0e1fc519f2a04c66894af364eacef405",
            "value": " 2554/? [08:12&lt;00:00,  5.19it/s]"
          }
        },
        "8be300cdc21f4255acceb2b474259ef6": {
          "model_module": "@jupyter-widgets/controls",
          "model_name": "HBoxModel",
          "state": {
            "_dom_classes": [],
            "_model_module": "@jupyter-widgets/controls",
            "_model_module_version": "1.5.0",
            "_model_name": "HBoxModel",
            "_view_count": null,
            "_view_module": "@jupyter-widgets/controls",
            "_view_module_version": "1.5.0",
            "_view_name": "HBoxView",
            "box_style": "",
            "children": [
              "IPY_MODEL_0fdaacae47934d1bba77e7627ef8ac76",
              "IPY_MODEL_50d219f492ae44528941db9e200eb685"
            ],
            "layout": "IPY_MODEL_d381695edcb4437ab08a756438cf5dfa"
          }
        },
        "8d88bf60c68042dab95159a2742d42e8": {
          "model_module": "@jupyter-widgets/base",
          "model_name": "LayoutModel",
          "state": {
            "_model_module": "@jupyter-widgets/base",
            "_model_module_version": "1.2.0",
            "_model_name": "LayoutModel",
            "_view_count": null,
            "_view_module": "@jupyter-widgets/base",
            "_view_module_version": "1.2.0",
            "_view_name": "LayoutView",
            "align_content": null,
            "align_items": null,
            "align_self": null,
            "border": null,
            "bottom": null,
            "display": null,
            "flex": null,
            "flex_flow": null,
            "grid_area": null,
            "grid_auto_columns": null,
            "grid_auto_flow": null,
            "grid_auto_rows": null,
            "grid_column": null,
            "grid_gap": null,
            "grid_row": null,
            "grid_template_areas": null,
            "grid_template_columns": null,
            "grid_template_rows": null,
            "height": null,
            "justify_content": null,
            "justify_items": null,
            "left": null,
            "margin": null,
            "max_height": null,
            "max_width": null,
            "min_height": null,
            "min_width": null,
            "object_fit": null,
            "object_position": null,
            "order": null,
            "overflow": null,
            "overflow_x": null,
            "overflow_y": null,
            "padding": null,
            "right": null,
            "top": null,
            "visibility": null,
            "width": null
          }
        },
        "8e4cbe3c81d64e3dbeb73fc30a61b829": {
          "model_module": "@jupyter-widgets/base",
          "model_name": "LayoutModel",
          "state": {
            "_model_module": "@jupyter-widgets/base",
            "_model_module_version": "1.2.0",
            "_model_name": "LayoutModel",
            "_view_count": null,
            "_view_module": "@jupyter-widgets/base",
            "_view_module_version": "1.2.0",
            "_view_name": "LayoutView",
            "align_content": null,
            "align_items": null,
            "align_self": null,
            "border": null,
            "bottom": null,
            "display": null,
            "flex": null,
            "flex_flow": null,
            "grid_area": null,
            "grid_auto_columns": null,
            "grid_auto_flow": null,
            "grid_auto_rows": null,
            "grid_column": null,
            "grid_gap": null,
            "grid_row": null,
            "grid_template_areas": null,
            "grid_template_columns": null,
            "grid_template_rows": null,
            "height": null,
            "justify_content": null,
            "justify_items": null,
            "left": null,
            "margin": null,
            "max_height": null,
            "max_width": null,
            "min_height": null,
            "min_width": null,
            "object_fit": null,
            "object_position": null,
            "order": null,
            "overflow": null,
            "overflow_x": null,
            "overflow_y": null,
            "padding": null,
            "right": null,
            "top": null,
            "visibility": null,
            "width": null
          }
        },
        "8e9f722f28274ec0a9027d8784be7e01": {
          "model_module": "@jupyter-widgets/controls",
          "model_name": "FloatProgressModel",
          "state": {
            "_dom_classes": [],
            "_model_module": "@jupyter-widgets/controls",
            "_model_module_version": "1.5.0",
            "_model_name": "FloatProgressModel",
            "_view_count": null,
            "_view_module": "@jupyter-widgets/controls",
            "_view_module_version": "1.5.0",
            "_view_name": "ProgressView",
            "bar_style": "success",
            "description": "",
            "description_tooltip": null,
            "layout": "IPY_MODEL_ffc84115ab1547bc99e5bd5c2d12643b",
            "max": 1,
            "min": 0,
            "orientation": "horizontal",
            "style": "IPY_MODEL_61e4bc8623f54af9afffeb0f9572a5b3",
            "value": 1
          }
        },
        "960a8227afec453cb1956f57d33d4ba8": {
          "model_module": "@jupyter-widgets/controls",
          "model_name": "DescriptionStyleModel",
          "state": {
            "_model_module": "@jupyter-widgets/controls",
            "_model_module_version": "1.5.0",
            "_model_name": "DescriptionStyleModel",
            "_view_count": null,
            "_view_module": "@jupyter-widgets/base",
            "_view_module_version": "1.2.0",
            "_view_name": "StyleView",
            "description_width": ""
          }
        },
        "974e82d7c4ac47509f28d8fedfe9cf36": {
          "model_module": "@jupyter-widgets/controls",
          "model_name": "HBoxModel",
          "state": {
            "_dom_classes": [],
            "_model_module": "@jupyter-widgets/controls",
            "_model_module_version": "1.5.0",
            "_model_name": "HBoxModel",
            "_view_count": null,
            "_view_module": "@jupyter-widgets/controls",
            "_view_module_version": "1.5.0",
            "_view_name": "HBoxView",
            "box_style": "",
            "children": [
              "IPY_MODEL_142391967c0c47249ec7c0455f0ce9c7",
              "IPY_MODEL_8613d3e418c84b2f80b6b02f6218bc0b"
            ],
            "layout": "IPY_MODEL_bbad9010441245b0b4c6716d9006cc5e"
          }
        },
        "992ef4ca50254b948dccfe1a7d9f7a71": {
          "model_module": "@jupyter-widgets/base",
          "model_name": "LayoutModel",
          "state": {
            "_model_module": "@jupyter-widgets/base",
            "_model_module_version": "1.2.0",
            "_model_name": "LayoutModel",
            "_view_count": null,
            "_view_module": "@jupyter-widgets/base",
            "_view_module_version": "1.2.0",
            "_view_name": "LayoutView",
            "align_content": null,
            "align_items": null,
            "align_self": null,
            "border": null,
            "bottom": null,
            "display": null,
            "flex": null,
            "flex_flow": null,
            "grid_area": null,
            "grid_auto_columns": null,
            "grid_auto_flow": null,
            "grid_auto_rows": null,
            "grid_column": null,
            "grid_gap": null,
            "grid_row": null,
            "grid_template_areas": null,
            "grid_template_columns": null,
            "grid_template_rows": null,
            "height": null,
            "justify_content": null,
            "justify_items": null,
            "left": null,
            "margin": null,
            "max_height": null,
            "max_width": null,
            "min_height": null,
            "min_width": null,
            "object_fit": null,
            "object_position": null,
            "order": null,
            "overflow": null,
            "overflow_x": null,
            "overflow_y": null,
            "padding": null,
            "right": null,
            "top": null,
            "visibility": null,
            "width": null
          }
        },
        "9b6c87b7934c430e923bf1d28089fd56": {
          "model_module": "@jupyter-widgets/controls",
          "model_name": "FloatProgressModel",
          "state": {
            "_dom_classes": [],
            "_model_module": "@jupyter-widgets/controls",
            "_model_module_version": "1.5.0",
            "_model_name": "FloatProgressModel",
            "_view_count": null,
            "_view_module": "@jupyter-widgets/controls",
            "_view_module_version": "1.5.0",
            "_view_name": "ProgressView",
            "bar_style": "success",
            "description": "",
            "description_tooltip": null,
            "layout": "IPY_MODEL_0192ea6e97fe476292bf5a456b87c885",
            "max": 1,
            "min": 0,
            "orientation": "horizontal",
            "style": "IPY_MODEL_ea92ae0323c543deb78af4d56f14e623",
            "value": 1
          }
        },
        "9dd8d019111042f3bfe69de123329832": {
          "model_module": "@jupyter-widgets/base",
          "model_name": "LayoutModel",
          "state": {
            "_model_module": "@jupyter-widgets/base",
            "_model_module_version": "1.2.0",
            "_model_name": "LayoutModel",
            "_view_count": null,
            "_view_module": "@jupyter-widgets/base",
            "_view_module_version": "1.2.0",
            "_view_name": "LayoutView",
            "align_content": null,
            "align_items": null,
            "align_self": null,
            "border": null,
            "bottom": null,
            "display": null,
            "flex": null,
            "flex_flow": null,
            "grid_area": null,
            "grid_auto_columns": null,
            "grid_auto_flow": null,
            "grid_auto_rows": null,
            "grid_column": null,
            "grid_gap": null,
            "grid_row": null,
            "grid_template_areas": null,
            "grid_template_columns": null,
            "grid_template_rows": null,
            "height": null,
            "justify_content": null,
            "justify_items": null,
            "left": null,
            "margin": null,
            "max_height": null,
            "max_width": null,
            "min_height": null,
            "min_width": null,
            "object_fit": null,
            "object_position": null,
            "order": null,
            "overflow": null,
            "overflow_x": null,
            "overflow_y": null,
            "padding": null,
            "right": null,
            "top": null,
            "visibility": null,
            "width": null
          }
        },
        "9fa4bd3d2e8b4483a6b5e71b0220de2b": {
          "model_module": "@jupyter-widgets/base",
          "model_name": "LayoutModel",
          "state": {
            "_model_module": "@jupyter-widgets/base",
            "_model_module_version": "1.2.0",
            "_model_name": "LayoutModel",
            "_view_count": null,
            "_view_module": "@jupyter-widgets/base",
            "_view_module_version": "1.2.0",
            "_view_name": "LayoutView",
            "align_content": null,
            "align_items": null,
            "align_self": null,
            "border": null,
            "bottom": null,
            "display": null,
            "flex": null,
            "flex_flow": null,
            "grid_area": null,
            "grid_auto_columns": null,
            "grid_auto_flow": null,
            "grid_auto_rows": null,
            "grid_column": null,
            "grid_gap": null,
            "grid_row": null,
            "grid_template_areas": null,
            "grid_template_columns": null,
            "grid_template_rows": null,
            "height": null,
            "justify_content": null,
            "justify_items": null,
            "left": null,
            "margin": null,
            "max_height": null,
            "max_width": null,
            "min_height": null,
            "min_width": null,
            "object_fit": null,
            "object_position": null,
            "order": null,
            "overflow": null,
            "overflow_x": null,
            "overflow_y": null,
            "padding": null,
            "right": null,
            "top": null,
            "visibility": null,
            "width": null
          }
        },
        "a18a068d21bb402c88bb7d8c74bc6db1": {
          "model_module": "@jupyter-widgets/controls",
          "model_name": "HTMLModel",
          "state": {
            "_dom_classes": [],
            "_model_module": "@jupyter-widgets/controls",
            "_model_module_version": "1.5.0",
            "_model_name": "HTMLModel",
            "_view_count": null,
            "_view_module": "@jupyter-widgets/controls",
            "_view_module_version": "1.5.0",
            "_view_name": "HTMLView",
            "description": "",
            "description_tooltip": null,
            "layout": "IPY_MODEL_39bfae9dcb8b427eb31313e227d945f1",
            "placeholder": "​",
            "style": "IPY_MODEL_e2b88ad4c7404d109bf7aa8dbe5afad6",
            "value": " 2554/? [08:08&lt;00:00,  5.23it/s]"
          }
        },
        "a2b0e5b8c2b04198ae21f9b21ad5b6f0": {
          "model_module": "@jupyter-widgets/base",
          "model_name": "LayoutModel",
          "state": {
            "_model_module": "@jupyter-widgets/base",
            "_model_module_version": "1.2.0",
            "_model_name": "LayoutModel",
            "_view_count": null,
            "_view_module": "@jupyter-widgets/base",
            "_view_module_version": "1.2.0",
            "_view_name": "LayoutView",
            "align_content": null,
            "align_items": null,
            "align_self": null,
            "border": null,
            "bottom": null,
            "display": null,
            "flex": null,
            "flex_flow": null,
            "grid_area": null,
            "grid_auto_columns": null,
            "grid_auto_flow": null,
            "grid_auto_rows": null,
            "grid_column": null,
            "grid_gap": null,
            "grid_row": null,
            "grid_template_areas": null,
            "grid_template_columns": null,
            "grid_template_rows": null,
            "height": null,
            "justify_content": null,
            "justify_items": null,
            "left": null,
            "margin": null,
            "max_height": null,
            "max_width": null,
            "min_height": null,
            "min_width": null,
            "object_fit": null,
            "object_position": null,
            "order": null,
            "overflow": null,
            "overflow_x": null,
            "overflow_y": null,
            "padding": null,
            "right": null,
            "top": null,
            "visibility": null,
            "width": null
          }
        },
        "aa1efe499f304cd786e5931a18e179c4": {
          "model_module": "@jupyter-widgets/controls",
          "model_name": "DescriptionStyleModel",
          "state": {
            "_model_module": "@jupyter-widgets/controls",
            "_model_module_version": "1.5.0",
            "_model_name": "DescriptionStyleModel",
            "_view_count": null,
            "_view_module": "@jupyter-widgets/base",
            "_view_module_version": "1.2.0",
            "_view_name": "StyleView",
            "description_width": ""
          }
        },
        "aca7eccf38c84403a84c83e14bfb0627": {
          "model_module": "@jupyter-widgets/controls",
          "model_name": "ProgressStyleModel",
          "state": {
            "_model_module": "@jupyter-widgets/controls",
            "_model_module_version": "1.5.0",
            "_model_name": "ProgressStyleModel",
            "_view_count": null,
            "_view_module": "@jupyter-widgets/base",
            "_view_module_version": "1.2.0",
            "_view_name": "StyleView",
            "bar_color": null,
            "description_width": "initial"
          }
        },
        "ace4e6f123c24848a1f2bdfa2c37fd8f": {
          "model_module": "@jupyter-widgets/controls",
          "model_name": "HTMLModel",
          "state": {
            "_dom_classes": [],
            "_model_module": "@jupyter-widgets/controls",
            "_model_module_version": "1.5.0",
            "_model_name": "HTMLModel",
            "_view_count": null,
            "_view_module": "@jupyter-widgets/controls",
            "_view_module_version": "1.5.0",
            "_view_name": "HTMLView",
            "description": "",
            "description_tooltip": null,
            "layout": "IPY_MODEL_ff5f96217ae842799de870ec3c70b84a",
            "placeholder": "​",
            "style": "IPY_MODEL_aa1efe499f304cd786e5931a18e179c4",
            "value": " 2554/? [20:23&lt;00:00,  2.09it/s]"
          }
        },
        "ae6caa0a65c4474289e2e05ce42807de": {
          "model_module": "@jupyter-widgets/base",
          "model_name": "LayoutModel",
          "state": {
            "_model_module": "@jupyter-widgets/base",
            "_model_module_version": "1.2.0",
            "_model_name": "LayoutModel",
            "_view_count": null,
            "_view_module": "@jupyter-widgets/base",
            "_view_module_version": "1.2.0",
            "_view_name": "LayoutView",
            "align_content": null,
            "align_items": null,
            "align_self": null,
            "border": null,
            "bottom": null,
            "display": null,
            "flex": null,
            "flex_flow": null,
            "grid_area": null,
            "grid_auto_columns": null,
            "grid_auto_flow": null,
            "grid_auto_rows": null,
            "grid_column": null,
            "grid_gap": null,
            "grid_row": null,
            "grid_template_areas": null,
            "grid_template_columns": null,
            "grid_template_rows": null,
            "height": null,
            "justify_content": null,
            "justify_items": null,
            "left": null,
            "margin": null,
            "max_height": null,
            "max_width": null,
            "min_height": null,
            "min_width": null,
            "object_fit": null,
            "object_position": null,
            "order": null,
            "overflow": null,
            "overflow_x": null,
            "overflow_y": null,
            "padding": null,
            "right": null,
            "top": null,
            "visibility": null,
            "width": null
          }
        },
        "afc4205766d54640aa555760c302fe35": {
          "model_module": "@jupyter-widgets/base",
          "model_name": "LayoutModel",
          "state": {
            "_model_module": "@jupyter-widgets/base",
            "_model_module_version": "1.2.0",
            "_model_name": "LayoutModel",
            "_view_count": null,
            "_view_module": "@jupyter-widgets/base",
            "_view_module_version": "1.2.0",
            "_view_name": "LayoutView",
            "align_content": null,
            "align_items": null,
            "align_self": null,
            "border": null,
            "bottom": null,
            "display": null,
            "flex": null,
            "flex_flow": null,
            "grid_area": null,
            "grid_auto_columns": null,
            "grid_auto_flow": null,
            "grid_auto_rows": null,
            "grid_column": null,
            "grid_gap": null,
            "grid_row": null,
            "grid_template_areas": null,
            "grid_template_columns": null,
            "grid_template_rows": null,
            "height": null,
            "justify_content": null,
            "justify_items": null,
            "left": null,
            "margin": null,
            "max_height": null,
            "max_width": null,
            "min_height": null,
            "min_width": null,
            "object_fit": null,
            "object_position": null,
            "order": null,
            "overflow": null,
            "overflow_x": null,
            "overflow_y": null,
            "padding": null,
            "right": null,
            "top": null,
            "visibility": null,
            "width": null
          }
        },
        "b633c69094474ab989f308f89e245f09": {
          "model_module": "@jupyter-widgets/controls",
          "model_name": "ProgressStyleModel",
          "state": {
            "_model_module": "@jupyter-widgets/controls",
            "_model_module_version": "1.5.0",
            "_model_name": "ProgressStyleModel",
            "_view_count": null,
            "_view_module": "@jupyter-widgets/base",
            "_view_module_version": "1.2.0",
            "_view_name": "StyleView",
            "bar_color": null,
            "description_width": "initial"
          }
        },
        "b982919063294e05ac51b39270cd1d58": {
          "model_module": "@jupyter-widgets/controls",
          "model_name": "DescriptionStyleModel",
          "state": {
            "_model_module": "@jupyter-widgets/controls",
            "_model_module_version": "1.5.0",
            "_model_name": "DescriptionStyleModel",
            "_view_count": null,
            "_view_module": "@jupyter-widgets/base",
            "_view_module_version": "1.2.0",
            "_view_name": "StyleView",
            "description_width": ""
          }
        },
        "bbad9010441245b0b4c6716d9006cc5e": {
          "model_module": "@jupyter-widgets/base",
          "model_name": "LayoutModel",
          "state": {
            "_model_module": "@jupyter-widgets/base",
            "_model_module_version": "1.2.0",
            "_model_name": "LayoutModel",
            "_view_count": null,
            "_view_module": "@jupyter-widgets/base",
            "_view_module_version": "1.2.0",
            "_view_name": "LayoutView",
            "align_content": null,
            "align_items": null,
            "align_self": null,
            "border": null,
            "bottom": null,
            "display": null,
            "flex": null,
            "flex_flow": null,
            "grid_area": null,
            "grid_auto_columns": null,
            "grid_auto_flow": null,
            "grid_auto_rows": null,
            "grid_column": null,
            "grid_gap": null,
            "grid_row": null,
            "grid_template_areas": null,
            "grid_template_columns": null,
            "grid_template_rows": null,
            "height": null,
            "justify_content": null,
            "justify_items": null,
            "left": null,
            "margin": null,
            "max_height": null,
            "max_width": null,
            "min_height": null,
            "min_width": null,
            "object_fit": null,
            "object_position": null,
            "order": null,
            "overflow": null,
            "overflow_x": null,
            "overflow_y": null,
            "padding": null,
            "right": null,
            "top": null,
            "visibility": null,
            "width": null
          }
        },
        "c78efb814805474297331fcad79162b5": {
          "model_module": "@jupyter-widgets/controls",
          "model_name": "ProgressStyleModel",
          "state": {
            "_model_module": "@jupyter-widgets/controls",
            "_model_module_version": "1.5.0",
            "_model_name": "ProgressStyleModel",
            "_view_count": null,
            "_view_module": "@jupyter-widgets/base",
            "_view_module_version": "1.2.0",
            "_view_name": "StyleView",
            "bar_color": null,
            "description_width": "initial"
          }
        },
        "c8b05c46ddff4f84b16764406c24f8b3": {
          "model_module": "@jupyter-widgets/controls",
          "model_name": "DescriptionStyleModel",
          "state": {
            "_model_module": "@jupyter-widgets/controls",
            "_model_module_version": "1.5.0",
            "_model_name": "DescriptionStyleModel",
            "_view_count": null,
            "_view_module": "@jupyter-widgets/base",
            "_view_module_version": "1.2.0",
            "_view_name": "StyleView",
            "description_width": ""
          }
        },
        "cb7d57a55f4e4c3a8958d675d5774262": {
          "model_module": "@jupyter-widgets/controls",
          "model_name": "FloatProgressModel",
          "state": {
            "_dom_classes": [],
            "_model_module": "@jupyter-widgets/controls",
            "_model_module_version": "1.5.0",
            "_model_name": "FloatProgressModel",
            "_view_count": null,
            "_view_module": "@jupyter-widgets/controls",
            "_view_module_version": "1.5.0",
            "_view_name": "ProgressView",
            "bar_style": "success",
            "description": "",
            "description_tooltip": null,
            "layout": "IPY_MODEL_992ef4ca50254b948dccfe1a7d9f7a71",
            "max": 1,
            "min": 0,
            "orientation": "horizontal",
            "style": "IPY_MODEL_ed9117e6c7bf488b8089d04c17fd07c2",
            "value": 1
          }
        },
        "cc1a4a7f1ef145f999fa60ea6d10a248": {
          "model_module": "@jupyter-widgets/controls",
          "model_name": "DescriptionStyleModel",
          "state": {
            "_model_module": "@jupyter-widgets/controls",
            "_model_module_version": "1.5.0",
            "_model_name": "DescriptionStyleModel",
            "_view_count": null,
            "_view_module": "@jupyter-widgets/base",
            "_view_module_version": "1.2.0",
            "_view_name": "StyleView",
            "description_width": ""
          }
        },
        "cdc4fd95317a46439cc352e9d8892dbe": {
          "model_module": "@jupyter-widgets/controls",
          "model_name": "HBoxModel",
          "state": {
            "_dom_classes": [],
            "_model_module": "@jupyter-widgets/controls",
            "_model_module_version": "1.5.0",
            "_model_name": "HBoxModel",
            "_view_count": null,
            "_view_module": "@jupyter-widgets/controls",
            "_view_module_version": "1.5.0",
            "_view_name": "HBoxView",
            "box_style": "",
            "children": [
              "IPY_MODEL_cb7d57a55f4e4c3a8958d675d5774262",
              "IPY_MODEL_3995b5859cca4f32aab3ab72ce8193b4"
            ],
            "layout": "IPY_MODEL_3e4f8bf529ab4b0d87478932d3e96199"
          }
        },
        "cde28ab4dfb44276a0cd5a5e0f4e2310": {
          "model_module": "@jupyter-widgets/controls",
          "model_name": "HTMLModel",
          "state": {
            "_dom_classes": [],
            "_model_module": "@jupyter-widgets/controls",
            "_model_module_version": "1.5.0",
            "_model_name": "HTMLModel",
            "_view_count": null,
            "_view_module": "@jupyter-widgets/controls",
            "_view_module_version": "1.5.0",
            "_view_name": "HTMLView",
            "description": "",
            "description_tooltip": null,
            "layout": "IPY_MODEL_0613842b13a14fe6a17b079f4680a90c",
            "placeholder": "​",
            "style": "IPY_MODEL_c8b05c46ddff4f84b16764406c24f8b3",
            "value": " 2554/? [12:09&lt;00:00,  3.50it/s]"
          }
        },
        "d1ed1acbefcc4266898008d5d8ce6055": {
          "model_module": "@jupyter-widgets/controls",
          "model_name": "FloatProgressModel",
          "state": {
            "_dom_classes": [],
            "_model_module": "@jupyter-widgets/controls",
            "_model_module_version": "1.5.0",
            "_model_name": "FloatProgressModel",
            "_view_count": null,
            "_view_module": "@jupyter-widgets/controls",
            "_view_module_version": "1.5.0",
            "_view_name": "ProgressView",
            "bar_style": "success",
            "description": "",
            "description_tooltip": null,
            "layout": "IPY_MODEL_a2b0e5b8c2b04198ae21f9b21ad5b6f0",
            "max": 1,
            "min": 0,
            "orientation": "horizontal",
            "style": "IPY_MODEL_b633c69094474ab989f308f89e245f09",
            "value": 1
          }
        },
        "d381695edcb4437ab08a756438cf5dfa": {
          "model_module": "@jupyter-widgets/base",
          "model_name": "LayoutModel",
          "state": {
            "_model_module": "@jupyter-widgets/base",
            "_model_module_version": "1.2.0",
            "_model_name": "LayoutModel",
            "_view_count": null,
            "_view_module": "@jupyter-widgets/base",
            "_view_module_version": "1.2.0",
            "_view_name": "LayoutView",
            "align_content": null,
            "align_items": null,
            "align_self": null,
            "border": null,
            "bottom": null,
            "display": null,
            "flex": null,
            "flex_flow": null,
            "grid_area": null,
            "grid_auto_columns": null,
            "grid_auto_flow": null,
            "grid_auto_rows": null,
            "grid_column": null,
            "grid_gap": null,
            "grid_row": null,
            "grid_template_areas": null,
            "grid_template_columns": null,
            "grid_template_rows": null,
            "height": null,
            "justify_content": null,
            "justify_items": null,
            "left": null,
            "margin": null,
            "max_height": null,
            "max_width": null,
            "min_height": null,
            "min_width": null,
            "object_fit": null,
            "object_position": null,
            "order": null,
            "overflow": null,
            "overflow_x": null,
            "overflow_y": null,
            "padding": null,
            "right": null,
            "top": null,
            "visibility": null,
            "width": null
          }
        },
        "dcf1f72b0256463680652d6934bb5e89": {
          "model_module": "@jupyter-widgets/base",
          "model_name": "LayoutModel",
          "state": {
            "_model_module": "@jupyter-widgets/base",
            "_model_module_version": "1.2.0",
            "_model_name": "LayoutModel",
            "_view_count": null,
            "_view_module": "@jupyter-widgets/base",
            "_view_module_version": "1.2.0",
            "_view_name": "LayoutView",
            "align_content": null,
            "align_items": null,
            "align_self": null,
            "border": null,
            "bottom": null,
            "display": null,
            "flex": null,
            "flex_flow": null,
            "grid_area": null,
            "grid_auto_columns": null,
            "grid_auto_flow": null,
            "grid_auto_rows": null,
            "grid_column": null,
            "grid_gap": null,
            "grid_row": null,
            "grid_template_areas": null,
            "grid_template_columns": null,
            "grid_template_rows": null,
            "height": null,
            "justify_content": null,
            "justify_items": null,
            "left": null,
            "margin": null,
            "max_height": null,
            "max_width": null,
            "min_height": null,
            "min_width": null,
            "object_fit": null,
            "object_position": null,
            "order": null,
            "overflow": null,
            "overflow_x": null,
            "overflow_y": null,
            "padding": null,
            "right": null,
            "top": null,
            "visibility": null,
            "width": null
          }
        },
        "e0ad48738dd8493fa6427bcd9c9bec1a": {
          "model_module": "@jupyter-widgets/base",
          "model_name": "LayoutModel",
          "state": {
            "_model_module": "@jupyter-widgets/base",
            "_model_module_version": "1.2.0",
            "_model_name": "LayoutModel",
            "_view_count": null,
            "_view_module": "@jupyter-widgets/base",
            "_view_module_version": "1.2.0",
            "_view_name": "LayoutView",
            "align_content": null,
            "align_items": null,
            "align_self": null,
            "border": null,
            "bottom": null,
            "display": null,
            "flex": null,
            "flex_flow": null,
            "grid_area": null,
            "grid_auto_columns": null,
            "grid_auto_flow": null,
            "grid_auto_rows": null,
            "grid_column": null,
            "grid_gap": null,
            "grid_row": null,
            "grid_template_areas": null,
            "grid_template_columns": null,
            "grid_template_rows": null,
            "height": null,
            "justify_content": null,
            "justify_items": null,
            "left": null,
            "margin": null,
            "max_height": null,
            "max_width": null,
            "min_height": null,
            "min_width": null,
            "object_fit": null,
            "object_position": null,
            "order": null,
            "overflow": null,
            "overflow_x": null,
            "overflow_y": null,
            "padding": null,
            "right": null,
            "top": null,
            "visibility": null,
            "width": null
          }
        },
        "e19a98538f2541ee8439e5f564c21d66": {
          "model_module": "@jupyter-widgets/controls",
          "model_name": "HBoxModel",
          "state": {
            "_dom_classes": [],
            "_model_module": "@jupyter-widgets/controls",
            "_model_module_version": "1.5.0",
            "_model_name": "HBoxModel",
            "_view_count": null,
            "_view_module": "@jupyter-widgets/controls",
            "_view_module_version": "1.5.0",
            "_view_name": "HBoxView",
            "box_style": "",
            "children": [
              "IPY_MODEL_d1ed1acbefcc4266898008d5d8ce6055",
              "IPY_MODEL_2d4e0af812794e34ab8a99f858c01ec5"
            ],
            "layout": "IPY_MODEL_35cda55e548f41b3863fd702abe0ee83"
          }
        },
        "e2b88ad4c7404d109bf7aa8dbe5afad6": {
          "model_module": "@jupyter-widgets/controls",
          "model_name": "DescriptionStyleModel",
          "state": {
            "_model_module": "@jupyter-widgets/controls",
            "_model_module_version": "1.5.0",
            "_model_name": "DescriptionStyleModel",
            "_view_count": null,
            "_view_module": "@jupyter-widgets/base",
            "_view_module_version": "1.2.0",
            "_view_name": "StyleView",
            "description_width": ""
          }
        },
        "e79d6e15e6ec4a188020c3306ebeef85": {
          "model_module": "@jupyter-widgets/controls",
          "model_name": "HBoxModel",
          "state": {
            "_dom_classes": [],
            "_model_module": "@jupyter-widgets/controls",
            "_model_module_version": "1.5.0",
            "_model_name": "HBoxModel",
            "_view_count": null,
            "_view_module": "@jupyter-widgets/controls",
            "_view_module_version": "1.5.0",
            "_view_name": "HBoxView",
            "box_style": "",
            "children": [
              "IPY_MODEL_728630bb34864ce4beef107b3b7c915d",
              "IPY_MODEL_0df66aabbee24cfcbf3149482c8acc9e"
            ],
            "layout": "IPY_MODEL_afc4205766d54640aa555760c302fe35"
          }
        },
        "ea92ae0323c543deb78af4d56f14e623": {
          "model_module": "@jupyter-widgets/controls",
          "model_name": "ProgressStyleModel",
          "state": {
            "_model_module": "@jupyter-widgets/controls",
            "_model_module_version": "1.5.0",
            "_model_name": "ProgressStyleModel",
            "_view_count": null,
            "_view_module": "@jupyter-widgets/base",
            "_view_module_version": "1.2.0",
            "_view_name": "StyleView",
            "bar_color": null,
            "description_width": "initial"
          }
        },
        "ed9117e6c7bf488b8089d04c17fd07c2": {
          "model_module": "@jupyter-widgets/controls",
          "model_name": "ProgressStyleModel",
          "state": {
            "_model_module": "@jupyter-widgets/controls",
            "_model_module_version": "1.5.0",
            "_model_name": "ProgressStyleModel",
            "_view_count": null,
            "_view_module": "@jupyter-widgets/base",
            "_view_module_version": "1.2.0",
            "_view_name": "StyleView",
            "bar_color": null,
            "description_width": "initial"
          }
        },
        "f279e53517ac442a8ade1f20b27ab432": {
          "model_module": "@jupyter-widgets/controls",
          "model_name": "HBoxModel",
          "state": {
            "_dom_classes": [],
            "_model_module": "@jupyter-widgets/controls",
            "_model_module_version": "1.5.0",
            "_model_name": "HBoxModel",
            "_view_count": null,
            "_view_module": "@jupyter-widgets/controls",
            "_view_module_version": "1.5.0",
            "_view_name": "HBoxView",
            "box_style": "",
            "children": [
              "IPY_MODEL_ff5768a8ef6443208bc69c4e134823ea",
              "IPY_MODEL_cde28ab4dfb44276a0cd5a5e0f4e2310"
            ],
            "layout": "IPY_MODEL_08c1722c8a2643f6b9c7a601aad6efe7"
          }
        },
        "fd7ffbec18a141e394c56877bab1f931": {
          "model_module": "@jupyter-widgets/controls",
          "model_name": "HBoxModel",
          "state": {
            "_dom_classes": [],
            "_model_module": "@jupyter-widgets/controls",
            "_model_module_version": "1.5.0",
            "_model_name": "HBoxModel",
            "_view_count": null,
            "_view_module": "@jupyter-widgets/controls",
            "_view_module_version": "1.5.0",
            "_view_name": "HBoxView",
            "box_style": "",
            "children": [
              "IPY_MODEL_0378377de14346aabc33ab8821daa30a",
              "IPY_MODEL_a18a068d21bb402c88bb7d8c74bc6db1"
            ],
            "layout": "IPY_MODEL_ae6caa0a65c4474289e2e05ce42807de"
          }
        },
        "ff5768a8ef6443208bc69c4e134823ea": {
          "model_module": "@jupyter-widgets/controls",
          "model_name": "FloatProgressModel",
          "state": {
            "_dom_classes": [],
            "_model_module": "@jupyter-widgets/controls",
            "_model_module_version": "1.5.0",
            "_model_name": "FloatProgressModel",
            "_view_count": null,
            "_view_module": "@jupyter-widgets/controls",
            "_view_module_version": "1.5.0",
            "_view_name": "ProgressView",
            "bar_style": "success",
            "description": "",
            "description_tooltip": null,
            "layout": "IPY_MODEL_7167082315d345e4a159502a10107c40",
            "max": 1,
            "min": 0,
            "orientation": "horizontal",
            "style": "IPY_MODEL_c78efb814805474297331fcad79162b5",
            "value": 1
          }
        },
        "ff5f96217ae842799de870ec3c70b84a": {
          "model_module": "@jupyter-widgets/base",
          "model_name": "LayoutModel",
          "state": {
            "_model_module": "@jupyter-widgets/base",
            "_model_module_version": "1.2.0",
            "_model_name": "LayoutModel",
            "_view_count": null,
            "_view_module": "@jupyter-widgets/base",
            "_view_module_version": "1.2.0",
            "_view_name": "LayoutView",
            "align_content": null,
            "align_items": null,
            "align_self": null,
            "border": null,
            "bottom": null,
            "display": null,
            "flex": null,
            "flex_flow": null,
            "grid_area": null,
            "grid_auto_columns": null,
            "grid_auto_flow": null,
            "grid_auto_rows": null,
            "grid_column": null,
            "grid_gap": null,
            "grid_row": null,
            "grid_template_areas": null,
            "grid_template_columns": null,
            "grid_template_rows": null,
            "height": null,
            "justify_content": null,
            "justify_items": null,
            "left": null,
            "margin": null,
            "max_height": null,
            "max_width": null,
            "min_height": null,
            "min_width": null,
            "object_fit": null,
            "object_position": null,
            "order": null,
            "overflow": null,
            "overflow_x": null,
            "overflow_y": null,
            "padding": null,
            "right": null,
            "top": null,
            "visibility": null,
            "width": null
          }
        },
        "ffc84115ab1547bc99e5bd5c2d12643b": {
          "model_module": "@jupyter-widgets/base",
          "model_name": "LayoutModel",
          "state": {
            "_model_module": "@jupyter-widgets/base",
            "_model_module_version": "1.2.0",
            "_model_name": "LayoutModel",
            "_view_count": null,
            "_view_module": "@jupyter-widgets/base",
            "_view_module_version": "1.2.0",
            "_view_name": "LayoutView",
            "align_content": null,
            "align_items": null,
            "align_self": null,
            "border": null,
            "bottom": null,
            "display": null,
            "flex": null,
            "flex_flow": null,
            "grid_area": null,
            "grid_auto_columns": null,
            "grid_auto_flow": null,
            "grid_auto_rows": null,
            "grid_column": null,
            "grid_gap": null,
            "grid_row": null,
            "grid_template_areas": null,
            "grid_template_columns": null,
            "grid_template_rows": null,
            "height": null,
            "justify_content": null,
            "justify_items": null,
            "left": null,
            "margin": null,
            "max_height": null,
            "max_width": null,
            "min_height": null,
            "min_width": null,
            "object_fit": null,
            "object_position": null,
            "order": null,
            "overflow": null,
            "overflow_x": null,
            "overflow_y": null,
            "padding": null,
            "right": null,
            "top": null,
            "visibility": null,
            "width": null
          }
        }
      }
    }
  },
  "nbformat": 4,
  "nbformat_minor": 0
}
